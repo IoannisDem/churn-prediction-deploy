{
 "cells": [
  {
   "cell_type": "code",
   "execution_count": 120,
   "metadata": {},
   "outputs": [],
   "source": [
    "import pandas as pd\n",
    "import numpy as np\n",
    "from collections import Counter\n",
    "\n",
    "import mlflow\n",
    "from mlflow.models import infer_signature\n",
    "\n",
    "from sklearn.model_selection import train_test_split\n",
    "from sklearn.metrics import accuracy_score, confusion_matrix, roc_curve, auc\n",
    "from imblearn.over_sampling import SMOTE, ADASYN\n",
    "from imblearn.combine import SMOTETomek\n",
    "\n",
    "from xgboost import XGBClassifier, plot_importance\n",
    "\n",
    "import hyperopt as hp\n",
    "from hyperopt import fmin, tpe, hp, STATUS_OK, Trials"
   ]
  },
  {
   "cell_type": "markdown",
   "metadata": {},
   "source": [
    "## Load data"
   ]
  },
  {
   "cell_type": "code",
   "execution_count": 93,
   "metadata": {},
   "outputs": [],
   "source": [
    "df = pd.read_csv(\"data/customer_churn_telecom_services.csv\")\n",
    "df[\"TotalCharges\"] = df[\"TotalCharges\"].fillna(df[\"tenure\"]*df[\"MonthlyCharges\"])"
   ]
  },
  {
   "cell_type": "markdown",
   "metadata": {},
   "source": [
    "## Churn Prediction"
   ]
  },
  {
   "cell_type": "markdown",
   "metadata": {},
   "source": [
    "* Churn prediction modelling can be an important tool for any company that aims to maximize customer retention, thus increase revenues and profitability.\n",
    "* Predicting churn and successfully lowering it by a relatively small fraction, ensure increase in profits especially when it comes down to acquiring new customers. This can be\n",
    "better modelled by using numbers such as Customer Lifetime Value (CLTV), Customer Acquisition Cost (CAC), Churn rate and Retention rate.\n",
    "\n",
    "In addition, having historic data such as the purchase history (membership or upgrades), engagemnt data with the product/service sentiment metrics (complaints, feedback) etc can provide event better insights compared to using static data. "
   ]
  },
  {
   "cell_type": "markdown",
   "metadata": {},
   "source": [
    "## Use Case"
   ]
  },
  {
   "cell_type": "markdown",
   "metadata": {},
   "source": [
    "* The dataset provides a plethora of data with regards to telecom customers. The data are static and it doesnt include any history data.\n",
    "* The objective is to use the dataset and 'profile' the type of customer who is more likely to churn."
   ]
  },
  {
   "cell_type": "markdown",
   "metadata": {},
   "source": [
    "## Data Split"
   ]
  },
  {
   "cell_type": "code",
   "execution_count": 94,
   "metadata": {},
   "outputs": [],
   "source": [
    "categ_feat = df.select_dtypes(include=\"object\").columns.tolist()\n",
    "categ_feat.remove(\"Churn\")\n",
    "\n",
    "df = pd.get_dummies(df, columns=categ_feat, drop_first=True)\n",
    "df[\"Churn\"] = df[\"Churn\"].map({\"No\": 0, \"Yes\": 1})"
   ]
  },
  {
   "cell_type": "markdown",
   "metadata": {},
   "source": [
    "#### Generate synthetic data"
   ]
  },
  {
   "cell_type": "code",
   "execution_count": 95,
   "metadata": {},
   "outputs": [
    {
     "name": "stdout",
     "output_type": "stream",
     "text": [
      "Resampled dataset shape Counter({0: 4765, 1: 4765})\n"
     ]
    }
   ],
   "source": [
    "X = df.drop('Churn', axis=1)\n",
    "y = df['Churn']\n",
    "\n",
    "# sm = SMOTE(random_state=3)\n",
    "# ada = ADASYN(random_state=3)\n",
    "smtom = SMOTETomek(random_state=3)\n",
    "\n",
    "# X, y = sm.fit_resample(X, y)\n",
    "# X, y = ada.fit_resample(X, y)\n",
    "X, y = smtom.fit_resample(X, y)\n",
    "\n",
    "\n",
    "print('Resampled dataset shape %s' % Counter(y))"
   ]
  },
  {
   "cell_type": "code",
   "execution_count": 96,
   "metadata": {},
   "outputs": [],
   "source": [
    "X_train, X_test, y_train, y_test = train_test_split(X, y, test_size=0.2, random_state=3)"
   ]
  },
  {
   "cell_type": "markdown",
   "metadata": {},
   "source": [
    "## Hyperparameter tuning - MLflow experiments"
   ]
  },
  {
   "cell_type": "code",
   "execution_count": 112,
   "metadata": {},
   "outputs": [
    {
     "name": "stderr",
     "output_type": "stream",
     "text": [
      "2025/02/27 23:37:21 INFO mlflow.tracking.fluent: Experiment with name 'Churn prediction' does not exist. Creating a new experiment.\n"
     ]
    },
    {
     "data": {
      "text/plain": [
       "<Experiment: artifact_location='mlflow-artifacts:/503687084130154334', creation_time=1740699441959, experiment_id='503687084130154334', last_update_time=1740699441959, lifecycle_stage='active', name='Churn prediction', tags={}>"
      ]
     },
     "execution_count": 112,
     "metadata": {},
     "output_type": "execute_result"
    }
   ],
   "source": [
    "mlflow.set_tracking_uri(\"http://localhost:8080\")\n",
    "mlflow.set_experiment(\"Churn prediction\")"
   ]
  },
  {
   "cell_type": "code",
   "execution_count": 121,
   "metadata": {},
   "outputs": [],
   "source": [
    "# hyperparameter space\n",
    "space={\n",
    "    'max_depth': hp.quniform(\"max_depth\", 3, 18, 1),\n",
    "    'gamma': hp.uniform ('gamma', 1,9),\n",
    "    'reg_alpha' : hp.quniform('reg_alpha', 40,180,1),\n",
    "    'reg_lambda' : hp.uniform('reg_lambda', 0,1),\n",
    "    'colsample_bytree' : hp.uniform('colsample_bytree', 0.5,1),\n",
    "    'min_child_weight' : hp.quniform('min_child_weight', 0, 10, 1),\n",
    "    'n_estimators': hp.quniform('n_estimators', 50, 200, 10)\n",
    "    }"
   ]
  },
  {
   "cell_type": "code",
   "execution_count": 122,
   "metadata": {},
   "outputs": [
    {
     "name": "stderr",
     "output_type": "stream",
     "text": [
      "/home/pj00/anaconda3/lib/python3.11/site-packages/mlflow/types/utils.py:452: UserWarning: Hint: Inferred schema contains integer column(s). Integer columns in Python cannot represent missing values. If your input data contains missing values at inference time, it will be encoded as floats and will cause a schema enforcement error. The best way to avoid this problem is to infer the model schema based on a realistic data sample (training dataset) that includes missing values. Alternatively, you can declare integer columns as doubles (float64) whenever these columns may have missing values. See `Handling Integers With Missing Values <https://www.mlflow.org/docs/latest/models.html#handling-integers-with-missing-values>`_ for more details.\n",
      "  warnings.warn(\n"
     ]
    }
   ],
   "source": [
    "signature = infer_signature(X_train, y_train)"
   ]
  },
  {
   "cell_type": "code",
   "execution_count": 125,
   "metadata": {},
   "outputs": [],
   "source": [
    "def hyperparameter_tuning(space):\n",
    "    model = XGBClassifier(n_estimators = int(space['n_estimators']), \n",
    "                          max_depth = int(space['max_depth']), \n",
    "                          gamma = space['gamma'],\n",
    "                          reg_alpha = int(space['reg_alpha']), \n",
    "                          min_child_weight=space['min_child_weight'],\n",
    "                          colsample_bytree=space['colsample_bytree'],\n",
    "                          eval_metric=[\"rmse\"],\n",
    "                          early_stopping_rounds=10,)\n",
    "    \n",
    "    evaluation = [(X_train, y_train), (X_test, y_test)]\n",
    "    \n",
    "    with mlflow.start_run(nested=True):\n",
    "        model.fit(X_train, \n",
    "                y_train,\n",
    "                eval_set=evaluation,\n",
    "                verbose=False)\n",
    "\n",
    "        pred = model.predict(X_test)\n",
    "        accuracy = accuracy_score(y_test, pred>0.5)\n",
    "\n",
    "        # Log parameters and results\n",
    "        mlflow.log_params(space)\n",
    "        mlflow.log_metric(\"accuracy\", accuracy)\n",
    "\n",
    "        # Log model\n",
    "        mlflow.xgboost.log_model(model, \"model\", signature=signature)\n",
    "\n",
    "        print (\"SCORE:\", accuracy)\n",
    "        return {'loss': -accuracy, 'status': STATUS_OK, 'model': model}"
   ]
  },
  {
   "cell_type": "code",
   "execution_count": 126,
   "metadata": {},
   "outputs": [
    {
     "name": "stdout",
     "output_type": "stream",
     "text": [
      "  0%|          | 0/30 [00:00<?, ?trial/s, best loss=?]"
     ]
    },
    {
     "name": "stderr",
     "output_type": "stream",
     "text": [
      "/home/pj00/anaconda3/lib/python3.11/site-packages/xgboost/core.py:158: UserWarning: [23:48:01] WARNING: /workspace/src/c_api/c_api.cc:1374: Saving model in the UBJSON format as default.  You can use file extension: `json`, `ubj` or `deprecated` to choose between formats.\n",
      "  warnings.warn(smsg, UserWarning)\n",
      "\n"
     ]
    },
    {
     "name": "stdout",
     "output_type": "stream",
     "text": [
      "SCORE:                                                \n",
      "0.8058761804826863                                    \n",
      "🏃 View run rebellious-moth-837 at: http://localhost:8080/#/experiments/503687084130154334/runs/d8d9d0bebb98402b92e7699eebc5ecaa\n",
      "\n",
      "🧪 View experiment at: http://localhost:8080/#/experiments/503687084130154334\n",
      "\n",
      "  3%|▎         | 1/30 [00:04<02:03,  4.27s/trial, best loss: -0.8058761804826863]"
     ]
    },
    {
     "name": "stderr",
     "output_type": "stream",
     "text": [
      "/home/pj00/anaconda3/lib/python3.11/site-packages/xgboost/core.py:158: UserWarning: [23:48:05] WARNING: /workspace/src/c_api/c_api.cc:1374: Saving model in the UBJSON format as default.  You can use file extension: `json`, `ubj` or `deprecated` to choose between formats.\n",
      "  warnings.warn(smsg, UserWarning)\n",
      "\n"
     ]
    },
    {
     "name": "stdout",
     "output_type": "stream",
     "text": [
      "SCORE:                                                                           \n",
      "0.8116474291710388                                                               \n",
      "🏃 View run worried-gnat-821 at: http://localhost:8080/#/experiments/503687084130154334/runs/7836e8c3f26e46888ac61c92cdf7df73\n",
      "\n",
      "🧪 View experiment at: http://localhost:8080/#/experiments/503687084130154334    \n",
      "\n",
      "  7%|▋         | 2/30 [00:07<01:39,  3.57s/trial, best loss: -0.8116474291710388]"
     ]
    },
    {
     "name": "stderr",
     "output_type": "stream",
     "text": [
      "/home/pj00/anaconda3/lib/python3.11/site-packages/xgboost/core.py:158: UserWarning: [23:48:08] WARNING: /workspace/src/c_api/c_api.cc:1374: Saving model in the UBJSON format as default.  You can use file extension: `json`, `ubj` or `deprecated` to choose between formats.\n",
      "  warnings.warn(smsg, UserWarning)\n",
      "\n"
     ]
    },
    {
     "name": "stdout",
     "output_type": "stream",
     "text": [
      "SCORE:                                                                           \n",
      "0.8179433368310598                                                               \n",
      "🏃 View run likeable-steed-932 at: http://localhost:8080/#/experiments/503687084130154334/runs/858554500bf44346809a509e0a8c6c78\n",
      "\n",
      "🧪 View experiment at: http://localhost:8080/#/experiments/503687084130154334    \n",
      "\n",
      " 10%|█         | 3/30 [00:10<01:30,  3.36s/trial, best loss: -0.8179433368310598]"
     ]
    },
    {
     "name": "stderr",
     "output_type": "stream",
     "text": [
      "/home/pj00/anaconda3/lib/python3.11/site-packages/xgboost/core.py:158: UserWarning: [23:48:11] WARNING: /workspace/src/c_api/c_api.cc:1374: Saving model in the UBJSON format as default.  You can use file extension: `json`, `ubj` or `deprecated` to choose between formats.\n",
      "  warnings.warn(smsg, UserWarning)\n",
      "\n"
     ]
    },
    {
     "name": "stdout",
     "output_type": "stream",
     "text": [
      "SCORE:                                                                           \n",
      "0.8079748163693599                                                               \n",
      "🏃 View run resilient-mink-54 at: http://localhost:8080/#/experiments/503687084130154334/runs/e05fe543cd3f489c9eae54dacd35bc66\n",
      "\n",
      "🧪 View experiment at: http://localhost:8080/#/experiments/503687084130154334    \n",
      "\n",
      " 13%|█▎        | 4/30 [00:13<01:26,  3.34s/trial, best loss: -0.8179433368310598]"
     ]
    },
    {
     "name": "stderr",
     "output_type": "stream",
     "text": [
      "/home/pj00/anaconda3/lib/python3.11/site-packages/xgboost/core.py:158: UserWarning: [23:48:15] WARNING: /workspace/src/c_api/c_api.cc:1374: Saving model in the UBJSON format as default.  You can use file extension: `json`, `ubj` or `deprecated` to choose between formats.\n",
      "  warnings.warn(smsg, UserWarning)\n",
      "\n"
     ]
    },
    {
     "name": "stdout",
     "output_type": "stream",
     "text": [
      "SCORE:                                                                           \n",
      "0.8058761804826863                                                               \n",
      "🏃 View run popular-wolf-65 at: http://localhost:8080/#/experiments/503687084130154334/runs/af8df71100ea4650be90d8b55ed7cac8\n",
      "\n",
      "🧪 View experiment at: http://localhost:8080/#/experiments/503687084130154334    \n",
      "\n",
      " 17%|█▋        | 5/30 [00:16<01:22,  3.29s/trial, best loss: -0.8179433368310598]"
     ]
    },
    {
     "name": "stderr",
     "output_type": "stream",
     "text": [
      "/home/pj00/anaconda3/lib/python3.11/site-packages/xgboost/core.py:158: UserWarning: [23:48:18] WARNING: /workspace/src/c_api/c_api.cc:1374: Saving model in the UBJSON format as default.  You can use file extension: `json`, `ubj` or `deprecated` to choose between formats.\n",
      "  warnings.warn(smsg, UserWarning)\n",
      "\n"
     ]
    },
    {
     "name": "stdout",
     "output_type": "stream",
     "text": [
      "SCORE:                                                                           \n",
      "0.8079748163693599                                                               \n",
      "🏃 View run masked-mouse-204 at: http://localhost:8080/#/experiments/503687084130154334/runs/a296fd84754e49e3bf333415268f736d\n",
      "\n",
      "🧪 View experiment at: http://localhost:8080/#/experiments/503687084130154334    \n",
      "\n",
      " 20%|██        | 6/30 [00:20<01:18,  3.28s/trial, best loss: -0.8179433368310598]"
     ]
    },
    {
     "name": "stderr",
     "output_type": "stream",
     "text": [
      "/home/pj00/anaconda3/lib/python3.11/site-packages/xgboost/core.py:158: UserWarning: [23:48:21] WARNING: /workspace/src/c_api/c_api.cc:1374: Saving model in the UBJSON format as default.  You can use file extension: `json`, `ubj` or `deprecated` to choose between formats.\n",
      "  warnings.warn(smsg, UserWarning)\n",
      "\n"
     ]
    },
    {
     "name": "stdout",
     "output_type": "stream",
     "text": [
      "SCORE:                                                                           \n",
      "0.7922350472193075                                                               \n",
      "🏃 View run hilarious-rook-209 at: http://localhost:8080/#/experiments/503687084130154334/runs/7ec531bb78e2408a8a2770725160c535\n",
      "\n",
      "🧪 View experiment at: http://localhost:8080/#/experiments/503687084130154334    \n",
      "\n",
      " 23%|██▎       | 7/30 [00:23<01:13,  3.18s/trial, best loss: -0.8179433368310598]"
     ]
    },
    {
     "name": "stderr",
     "output_type": "stream",
     "text": [
      "/home/pj00/anaconda3/lib/python3.11/site-packages/xgboost/core.py:158: UserWarning: [23:48:24] WARNING: /workspace/src/c_api/c_api.cc:1374: Saving model in the UBJSON format as default.  You can use file extension: `json`, `ubj` or `deprecated` to choose between formats.\n",
      "  warnings.warn(smsg, UserWarning)\n",
      "\n"
     ]
    },
    {
     "name": "stdout",
     "output_type": "stream",
     "text": [
      "SCORE:                                                                           \n",
      "0.8090241343126967                                                               \n",
      "🏃 View run crawling-bird-621 at: http://localhost:8080/#/experiments/503687084130154334/runs/89d7b3dcebf840e4b639a0900fe6e5fa\n",
      "\n",
      "🧪 View experiment at: http://localhost:8080/#/experiments/503687084130154334    \n",
      "\n",
      " 27%|██▋       | 8/30 [00:26<01:10,  3.18s/trial, best loss: -0.8179433368310598]"
     ]
    },
    {
     "name": "stderr",
     "output_type": "stream",
     "text": [
      "/home/pj00/anaconda3/lib/python3.11/site-packages/xgboost/core.py:158: UserWarning: [23:48:27] WARNING: /workspace/src/c_api/c_api.cc:1374: Saving model in the UBJSON format as default.  You can use file extension: `json`, `ubj` or `deprecated` to choose between formats.\n",
      "  warnings.warn(smsg, UserWarning)\n",
      "\n"
     ]
    },
    {
     "name": "stdout",
     "output_type": "stream",
     "text": [
      "SCORE:                                                                           \n",
      "0.7948583420776495                                                               \n",
      "🏃 View run languid-bear-51 at: http://localhost:8080/#/experiments/503687084130154334/runs/ab2c9ed9d06842e5bc629abf19b9aef3\n",
      "\n",
      "🧪 View experiment at: http://localhost:8080/#/experiments/503687084130154334    \n",
      "\n",
      " 30%|███       | 9/30 [00:29<01:06,  3.17s/trial, best loss: -0.8179433368310598]"
     ]
    },
    {
     "name": "stderr",
     "output_type": "stream",
     "text": [
      "/home/pj00/anaconda3/lib/python3.11/site-packages/xgboost/core.py:158: UserWarning: [23:48:30] WARNING: /workspace/src/c_api/c_api.cc:1374: Saving model in the UBJSON format as default.  You can use file extension: `json`, `ubj` or `deprecated` to choose between formats.\n",
      "  warnings.warn(smsg, UserWarning)\n",
      "\n"
     ]
    },
    {
     "name": "stdout",
     "output_type": "stream",
     "text": [
      "SCORE:                                                                           \n",
      "0.8247639034627492                                                               \n",
      "🏃 View run exultant-mink-989 at: http://localhost:8080/#/experiments/503687084130154334/runs/faf51c1311c043a99c7998df905d8bd7\n",
      "\n",
      "🧪 View experiment at: http://localhost:8080/#/experiments/503687084130154334    \n",
      "\n",
      " 33%|███▎      | 10/30 [00:32<01:04,  3.23s/trial, best loss: -0.8247639034627492]"
     ]
    },
    {
     "name": "stderr",
     "output_type": "stream",
     "text": [
      "/home/pj00/anaconda3/lib/python3.11/site-packages/xgboost/core.py:158: UserWarning: [23:48:34] WARNING: /workspace/src/c_api/c_api.cc:1374: Saving model in the UBJSON format as default.  You can use file extension: `json`, `ubj` or `deprecated` to choose between formats.\n",
      "  warnings.warn(smsg, UserWarning)\n",
      "\n"
     ]
    },
    {
     "name": "stdout",
     "output_type": "stream",
     "text": [
      "SCORE:                                                                            \n",
      "0.8111227701993704                                                                \n",
      "🏃 View run abrasive-gull-6 at: http://localhost:8080/#/experiments/503687084130154334/runs/381adf27cd334c9ead1da2f4da6b1980\n",
      "\n",
      "🧪 View experiment at: http://localhost:8080/#/experiments/503687084130154334     \n",
      "\n",
      " 37%|███▋      | 11/30 [00:36<01:01,  3.23s/trial, best loss: -0.8247639034627492]"
     ]
    },
    {
     "name": "stderr",
     "output_type": "stream",
     "text": [
      "/home/pj00/anaconda3/lib/python3.11/site-packages/xgboost/core.py:158: UserWarning: [23:48:37] WARNING: /workspace/src/c_api/c_api.cc:1374: Saving model in the UBJSON format as default.  You can use file extension: `json`, `ubj` or `deprecated` to choose between formats.\n",
      "  warnings.warn(smsg, UserWarning)\n",
      "\n"
     ]
    },
    {
     "name": "stdout",
     "output_type": "stream",
     "text": [
      "SCORE:                                                                            \n",
      "0.8079748163693599                                                                \n",
      "🏃 View run bittersweet-steed-27 at: http://localhost:8080/#/experiments/503687084130154334/runs/1e5ff876ecfb494fa18d43ad1a403e3b\n",
      "\n",
      "🧪 View experiment at: http://localhost:8080/#/experiments/503687084130154334     \n",
      "\n",
      " 40%|████      | 12/30 [00:39<00:57,  3.17s/trial, best loss: -0.8247639034627492]"
     ]
    },
    {
     "name": "stderr",
     "output_type": "stream",
     "text": [
      "/home/pj00/anaconda3/lib/python3.11/site-packages/xgboost/core.py:158: UserWarning: [23:48:40] WARNING: /workspace/src/c_api/c_api.cc:1374: Saving model in the UBJSON format as default.  You can use file extension: `json`, `ubj` or `deprecated` to choose between formats.\n",
      "  warnings.warn(smsg, UserWarning)\n",
      "\n"
     ]
    },
    {
     "name": "stdout",
     "output_type": "stream",
     "text": [
      "SCORE:                                                                            \n",
      "0.8058761804826863                                                                \n",
      "🏃 View run peaceful-shark-502 at: http://localhost:8080/#/experiments/503687084130154334/runs/e15e8a9510084b24bb2626df71c8deec\n",
      "\n",
      "🧪 View experiment at: http://localhost:8080/#/experiments/503687084130154334     \n",
      "\n",
      " 43%|████▎     | 13/30 [00:42<00:52,  3.10s/trial, best loss: -0.8247639034627492]"
     ]
    },
    {
     "name": "stderr",
     "output_type": "stream",
     "text": [
      "/home/pj00/anaconda3/lib/python3.11/site-packages/xgboost/core.py:158: UserWarning: [23:48:43] WARNING: /workspace/src/c_api/c_api.cc:1374: Saving model in the UBJSON format as default.  You can use file extension: `json`, `ubj` or `deprecated` to choose between formats.\n",
      "  warnings.warn(smsg, UserWarning)\n",
      "\n"
     ]
    },
    {
     "name": "stdout",
     "output_type": "stream",
     "text": [
      "SCORE:                                                                            \n",
      "0.804302203567681                                                                 \n",
      "🏃 View run delightful-carp-161 at: http://localhost:8080/#/experiments/503687084130154334/runs/42dfeff06dbd4f8e858aaca3e8584258\n",
      "\n",
      "🧪 View experiment at: http://localhost:8080/#/experiments/503687084130154334     \n",
      "\n",
      " 47%|████▋     | 14/30 [00:44<00:48,  3.01s/trial, best loss: -0.8247639034627492]"
     ]
    },
    {
     "name": "stderr",
     "output_type": "stream",
     "text": [
      "/home/pj00/anaconda3/lib/python3.11/site-packages/xgboost/core.py:158: UserWarning: [23:48:46] WARNING: /workspace/src/c_api/c_api.cc:1374: Saving model in the UBJSON format as default.  You can use file extension: `json`, `ubj` or `deprecated` to choose between formats.\n",
      "  warnings.warn(smsg, UserWarning)\n",
      "\n"
     ]
    },
    {
     "name": "stdout",
     "output_type": "stream",
     "text": [
      "SCORE:                                                                            \n",
      "0.79800629590766                                                                  \n",
      "🏃 View run masked-vole-875 at: http://localhost:8080/#/experiments/503687084130154334/runs/ce94792bb872403b87ab58bd18a68081\n",
      "\n",
      "🧪 View experiment at: http://localhost:8080/#/experiments/503687084130154334     \n",
      "\n",
      " 50%|█████     | 15/30 [00:47<00:44,  2.96s/trial, best loss: -0.8247639034627492]"
     ]
    },
    {
     "name": "stderr",
     "output_type": "stream",
     "text": [
      "/home/pj00/anaconda3/lib/python3.11/site-packages/xgboost/core.py:158: UserWarning: [23:48:49] WARNING: /workspace/src/c_api/c_api.cc:1374: Saving model in the UBJSON format as default.  You can use file extension: `json`, `ubj` or `deprecated` to choose between formats.\n",
      "  warnings.warn(smsg, UserWarning)\n",
      "\n"
     ]
    },
    {
     "name": "stdout",
     "output_type": "stream",
     "text": [
      "SCORE:                                                                            \n",
      "0.8037775445960126                                                                \n",
      "🏃 View run welcoming-tern-943 at: http://localhost:8080/#/experiments/503687084130154334/runs/28e4f95c5fb84b0cad5f676a41a7ab53\n",
      "\n",
      "🧪 View experiment at: http://localhost:8080/#/experiments/503687084130154334     \n",
      "\n",
      " 53%|█████▎    | 16/30 [00:50<00:41,  2.93s/trial, best loss: -0.8247639034627492]"
     ]
    },
    {
     "name": "stderr",
     "output_type": "stream",
     "text": [
      "/home/pj00/anaconda3/lib/python3.11/site-packages/xgboost/core.py:158: UserWarning: [23:48:52] WARNING: /workspace/src/c_api/c_api.cc:1374: Saving model in the UBJSON format as default.  You can use file extension: `json`, `ubj` or `deprecated` to choose between formats.\n",
      "  warnings.warn(smsg, UserWarning)\n",
      "\n"
     ]
    },
    {
     "name": "stdout",
     "output_type": "stream",
     "text": [
      "SCORE:                                                                            \n",
      "0.8084994753410283                                                                \n",
      "🏃 View run worried-wasp-222 at: http://localhost:8080/#/experiments/503687084130154334/runs/48865cf1bac3448a8ac5f771d34ae0dc\n",
      "\n",
      "🧪 View experiment at: http://localhost:8080/#/experiments/503687084130154334     \n",
      "\n",
      " 57%|█████▋    | 17/30 [00:53<00:38,  2.95s/trial, best loss: -0.8247639034627492]"
     ]
    },
    {
     "name": "stderr",
     "output_type": "stream",
     "text": [
      "/home/pj00/anaconda3/lib/python3.11/site-packages/xgboost/core.py:158: UserWarning: [23:48:54] WARNING: /workspace/src/c_api/c_api.cc:1374: Saving model in the UBJSON format as default.  You can use file extension: `json`, `ubj` or `deprecated` to choose between formats.\n",
      "  warnings.warn(smsg, UserWarning)\n",
      "\n"
     ]
    },
    {
     "name": "stdout",
     "output_type": "stream",
     "text": [
      "SCORE:                                                                            \n",
      "0.8053515215110179                                                                \n",
      "🏃 View run resilient-ram-784 at: http://localhost:8080/#/experiments/503687084130154334/runs/faa248a62ecf45849491cae0d31d9874\n",
      "\n",
      "🧪 View experiment at: http://localhost:8080/#/experiments/503687084130154334     \n",
      "\n",
      " 60%|██████    | 18/30 [00:56<00:35,  2.93s/trial, best loss: -0.8247639034627492]"
     ]
    },
    {
     "name": "stderr",
     "output_type": "stream",
     "text": [
      "/home/pj00/anaconda3/lib/python3.11/site-packages/xgboost/core.py:158: UserWarning: [23:48:57] WARNING: /workspace/src/c_api/c_api.cc:1374: Saving model in the UBJSON format as default.  You can use file extension: `json`, `ubj` or `deprecated` to choose between formats.\n",
      "  warnings.warn(smsg, UserWarning)\n",
      "\n"
     ]
    },
    {
     "name": "stdout",
     "output_type": "stream",
     "text": [
      "SCORE:                                                                            \n",
      "0.8074501573976915                                                                \n",
      "🏃 View run sneaky-zebra-826 at: http://localhost:8080/#/experiments/503687084130154334/runs/efdfb185eafb48e2b6512ee075ef4988\n",
      "\n",
      "🧪 View experiment at: http://localhost:8080/#/experiments/503687084130154334     \n",
      "\n",
      " 63%|██████▎   | 19/30 [00:59<00:31,  2.90s/trial, best loss: -0.8247639034627492]"
     ]
    },
    {
     "name": "stderr",
     "output_type": "stream",
     "text": [
      "/home/pj00/anaconda3/lib/python3.11/site-packages/xgboost/core.py:158: UserWarning: [23:49:00] WARNING: /workspace/src/c_api/c_api.cc:1374: Saving model in the UBJSON format as default.  You can use file extension: `json`, `ubj` or `deprecated` to choose between formats.\n",
      "  warnings.warn(smsg, UserWarning)\n",
      "\n"
     ]
    },
    {
     "name": "stdout",
     "output_type": "stream",
     "text": [
      "SCORE:                                                                            \n",
      "0.8137460650577125                                                                \n",
      "🏃 View run treasured-cow-113 at: http://localhost:8080/#/experiments/503687084130154334/runs/1e25f560529f40119a1148c087fdff51\n",
      "\n",
      "🧪 View experiment at: http://localhost:8080/#/experiments/503687084130154334     \n",
      "\n",
      " 67%|██████▋   | 20/30 [01:02<00:29,  2.95s/trial, best loss: -0.8247639034627492]"
     ]
    },
    {
     "name": "stderr",
     "output_type": "stream",
     "text": [
      "/home/pj00/anaconda3/lib/python3.11/site-packages/xgboost/core.py:158: UserWarning: [23:49:03] WARNING: /workspace/src/c_api/c_api.cc:1374: Saving model in the UBJSON format as default.  You can use file extension: `json`, `ubj` or `deprecated` to choose between formats.\n",
      "  warnings.warn(smsg, UserWarning)\n",
      "\n"
     ]
    },
    {
     "name": "stdout",
     "output_type": "stream",
     "text": [
      "SCORE:                                                                            \n",
      "0.8163693599160545                                                                \n",
      "🏃 View run hilarious-robin-875 at: http://localhost:8080/#/experiments/503687084130154334/runs/c3b1e72b635645fe855e899278388130\n",
      "\n",
      "🧪 View experiment at: http://localhost:8080/#/experiments/503687084130154334     \n",
      "\n",
      " 70%|███████   | 21/30 [01:05<00:27,  3.03s/trial, best loss: -0.8247639034627492]"
     ]
    },
    {
     "name": "stderr",
     "output_type": "stream",
     "text": [
      "/home/pj00/anaconda3/lib/python3.11/site-packages/xgboost/core.py:158: UserWarning: [23:49:07] WARNING: /workspace/src/c_api/c_api.cc:1374: Saving model in the UBJSON format as default.  You can use file extension: `json`, `ubj` or `deprecated` to choose between formats.\n",
      "  warnings.warn(smsg, UserWarning)\n",
      "\n"
     ]
    },
    {
     "name": "stdout",
     "output_type": "stream",
     "text": [
      "SCORE:                                                                            \n",
      "0.8237145855194123                                                                \n",
      "🏃 View run selective-mouse-89 at: http://localhost:8080/#/experiments/503687084130154334/runs/8c2be6f9903f41bc809da70ab430f65a\n",
      "\n",
      "🧪 View experiment at: http://localhost:8080/#/experiments/503687084130154334     \n",
      "\n",
      " 73%|███████▎  | 22/30 [01:08<00:24,  3.07s/trial, best loss: -0.8247639034627492]"
     ]
    },
    {
     "name": "stderr",
     "output_type": "stream",
     "text": [
      "/home/pj00/anaconda3/lib/python3.11/site-packages/xgboost/core.py:158: UserWarning: [23:49:10] WARNING: /workspace/src/c_api/c_api.cc:1374: Saving model in the UBJSON format as default.  You can use file extension: `json`, `ubj` or `deprecated` to choose between formats.\n",
      "  warnings.warn(smsg, UserWarning)\n",
      "\n"
     ]
    },
    {
     "name": "stdout",
     "output_type": "stream",
     "text": [
      "SCORE:                                                                            \n",
      "0.8147953830010494                                                                \n",
      "🏃 View run mercurial-gull-453 at: http://localhost:8080/#/experiments/503687084130154334/runs/5a65001473a74bb6ba674ebf6531d24f\n",
      "\n",
      "🧪 View experiment at: http://localhost:8080/#/experiments/503687084130154334     \n",
      "\n",
      " 77%|███████▋  | 23/30 [01:11<00:21,  3.04s/trial, best loss: -0.8247639034627492]"
     ]
    },
    {
     "name": "stderr",
     "output_type": "stream",
     "text": [
      "/home/pj00/anaconda3/lib/python3.11/site-packages/xgboost/core.py:158: UserWarning: [23:49:13] WARNING: /workspace/src/c_api/c_api.cc:1374: Saving model in the UBJSON format as default.  You can use file extension: `json`, `ubj` or `deprecated` to choose between formats.\n",
      "  warnings.warn(smsg, UserWarning)\n",
      "\n"
     ]
    },
    {
     "name": "stdout",
     "output_type": "stream",
     "text": [
      "SCORE:                                                                            \n",
      "0.8126967471143757                                                                \n",
      "🏃 View run capable-mouse-490 at: http://localhost:8080/#/experiments/503687084130154334/runs/f6b77396890e446a95ab6f0bda57668f\n",
      "\n",
      "🧪 View experiment at: http://localhost:8080/#/experiments/503687084130154334     \n",
      "\n",
      " 80%|████████  | 24/30 [01:14<00:18,  3.00s/trial, best loss: -0.8247639034627492]"
     ]
    },
    {
     "name": "stderr",
     "output_type": "stream",
     "text": [
      "/home/pj00/anaconda3/lib/python3.11/site-packages/xgboost/core.py:158: UserWarning: [23:49:16] WARNING: /workspace/src/c_api/c_api.cc:1374: Saving model in the UBJSON format as default.  You can use file extension: `json`, `ubj` or `deprecated` to choose between formats.\n",
      "  warnings.warn(smsg, UserWarning)\n",
      "\n"
     ]
    },
    {
     "name": "stdout",
     "output_type": "stream",
     "text": [
      "SCORE:                                                                            \n",
      "0.8268625393494229                                                                \n",
      "🏃 View run handsome-mare-492 at: http://localhost:8080/#/experiments/503687084130154334/runs/7ce9b6d548bd44b2a6bddf9d0b8513fc\n",
      "\n",
      "🧪 View experiment at: http://localhost:8080/#/experiments/503687084130154334     \n",
      "\n",
      " 83%|████████▎ | 25/30 [01:17<00:14,  2.96s/trial, best loss: -0.8268625393494229]"
     ]
    },
    {
     "name": "stderr",
     "output_type": "stream",
     "text": [
      "/home/pj00/anaconda3/lib/python3.11/site-packages/xgboost/core.py:158: UserWarning: [23:49:18] WARNING: /workspace/src/c_api/c_api.cc:1374: Saving model in the UBJSON format as default.  You can use file extension: `json`, `ubj` or `deprecated` to choose between formats.\n",
      "  warnings.warn(smsg, UserWarning)\n",
      "\n"
     ]
    },
    {
     "name": "stdout",
     "output_type": "stream",
     "text": [
      "SCORE:                                                                            \n",
      "0.7959076600209863                                                                \n",
      "🏃 View run popular-ant-857 at: http://localhost:8080/#/experiments/503687084130154334/runs/d8a9c63df0d346ce821e7ebb2209cefd\n",
      "\n",
      "🧪 View experiment at: http://localhost:8080/#/experiments/503687084130154334     \n",
      "\n",
      " 87%|████████▋ | 26/30 [01:20<00:11,  2.94s/trial, best loss: -0.8268625393494229]"
     ]
    },
    {
     "name": "stderr",
     "output_type": "stream",
     "text": [
      "/home/pj00/anaconda3/lib/python3.11/site-packages/xgboost/core.py:158: UserWarning: [23:49:21] WARNING: /workspace/src/c_api/c_api.cc:1374: Saving model in the UBJSON format as default.  You can use file extension: `json`, `ubj` or `deprecated` to choose between formats.\n",
      "  warnings.warn(smsg, UserWarning)\n",
      "\n"
     ]
    },
    {
     "name": "stdout",
     "output_type": "stream",
     "text": [
      "SCORE:                                                                            \n",
      "0.8179433368310598                                                                \n",
      "🏃 View run victorious-lamb-939 at: http://localhost:8080/#/experiments/503687084130154334/runs/e297144c62c54edb8cafde1613d20968\n",
      "\n",
      "🧪 View experiment at: http://localhost:8080/#/experiments/503687084130154334     \n",
      "\n",
      " 90%|█████████ | 27/30 [01:23<00:08,  2.98s/trial, best loss: -0.8268625393494229]"
     ]
    },
    {
     "name": "stderr",
     "output_type": "stream",
     "text": [
      "/home/pj00/anaconda3/lib/python3.11/site-packages/xgboost/core.py:158: UserWarning: [23:49:25] WARNING: /workspace/src/c_api/c_api.cc:1374: Saving model in the UBJSON format as default.  You can use file extension: `json`, `ubj` or `deprecated` to choose between formats.\n",
      "  warnings.warn(smsg, UserWarning)\n",
      "\n"
     ]
    },
    {
     "name": "stdout",
     "output_type": "stream",
     "text": [
      "SCORE:                                                                            \n",
      "0.8231899265477439                                                                \n",
      "🏃 View run languid-skunk-736 at: http://localhost:8080/#/experiments/503687084130154334/runs/4e48ac13845a4441969284d40b74a554\n",
      "\n",
      "🧪 View experiment at: http://localhost:8080/#/experiments/503687084130154334     \n",
      "\n",
      " 93%|█████████▎| 28/30 [01:26<00:05,  2.99s/trial, best loss: -0.8268625393494229]"
     ]
    },
    {
     "name": "stderr",
     "output_type": "stream",
     "text": [
      "/home/pj00/anaconda3/lib/python3.11/site-packages/xgboost/core.py:158: UserWarning: [23:49:27] WARNING: /workspace/src/c_api/c_api.cc:1374: Saving model in the UBJSON format as default.  You can use file extension: `json`, `ubj` or `deprecated` to choose between formats.\n",
      "  warnings.warn(smsg, UserWarning)\n",
      "\n"
     ]
    },
    {
     "name": "stdout",
     "output_type": "stream",
     "text": [
      "SCORE:                                                                            \n",
      "0.8058761804826863                                                                \n",
      "🏃 View run kindly-rat-54 at: http://localhost:8080/#/experiments/503687084130154334/runs/d28654b90d0941b4bc308ff08be04f8c\n",
      "\n",
      "🧪 View experiment at: http://localhost:8080/#/experiments/503687084130154334     \n",
      "\n",
      " 97%|█████████▋| 29/30 [01:29<00:02,  2.94s/trial, best loss: -0.8268625393494229]"
     ]
    },
    {
     "name": "stderr",
     "output_type": "stream",
     "text": [
      "/home/pj00/anaconda3/lib/python3.11/site-packages/xgboost/core.py:158: UserWarning: [23:49:30] WARNING: /workspace/src/c_api/c_api.cc:1374: Saving model in the UBJSON format as default.  You can use file extension: `json`, `ubj` or `deprecated` to choose between formats.\n",
      "  warnings.warn(smsg, UserWarning)\n",
      "\n"
     ]
    },
    {
     "name": "stdout",
     "output_type": "stream",
     "text": [
      "SCORE:                                                                            \n",
      "0.810598111227702                                                                 \n",
      "🏃 View run shivering-seal-955 at: http://localhost:8080/#/experiments/503687084130154334/runs/3efc803b0d89433c8ae6464144f78552\n",
      "\n",
      "🧪 View experiment at: http://localhost:8080/#/experiments/503687084130154334     \n",
      "\n",
      "100%|██████████| 30/30 [01:32<00:00,  3.07s/trial, best loss: -0.8268625393494229]\n"
     ]
    },
    {
     "name": "stderr",
     "output_type": "stream",
     "text": [
      "/home/pj00/anaconda3/lib/python3.11/site-packages/xgboost/core.py:158: UserWarning: [23:49:33] WARNING: /workspace/src/c_api/c_api.cc:1374: Saving model in the UBJSON format as default.  You can use file extension: `json`, `ubj` or `deprecated` to choose between formats.\n",
      "  warnings.warn(smsg, UserWarning)\n"
     ]
    },
    {
     "name": "stdout",
     "output_type": "stream",
     "text": [
      "Best parameters: {'colsample_bytree': 0.7200600780671598, 'gamma': 1.6523193100403246, 'max_depth': 12.0, 'min_child_weight': 8.0, 'n_estimators': 190.0, 'reg_alpha': 40.0, 'reg_lambda': 0.8374806119909937}\n",
      "Best eval rmse: -0.8268625393494229\n",
      "🏃 View run bustling-goose-55 at: http://localhost:8080/#/experiments/503687084130154334/runs/258f3da1ff74463fa79355c959d4b8f5\n",
      "🧪 View experiment at: http://localhost:8080/#/experiments/503687084130154334\n"
     ]
    }
   ],
   "source": [
    "with mlflow.start_run():\n",
    "    trials = Trials()\n",
    "    best = fmin(fn=hyperparameter_tuning,\n",
    "                space=space,\n",
    "                algo=tpe.suggest,\n",
    "                max_evals=30,\n",
    "                trials=trials)\n",
    "    best_run = sorted(trials.results, key=lambda x: x[\"loss\"])[0]\n",
    "\n",
    "    # Log the best parameters, loss, and model\n",
    "    mlflow.log_params(best)\n",
    "    mlflow.log_metric(\"accuracy\", -best_run[\"loss\"])\n",
    "\n",
    "    # log bets model\n",
    "    mlflow.xgboost.log_model(best_run[\"model\"], \"model\", signature=signature)\n",
    "\n",
    "    # Print out the best parameters and corresponding loss\n",
    "    print(f\"Best parameters: {best}\")\n",
    "    print(f\"Best eval rmse: {best_run['loss']}\")"
   ]
  },
  {
   "cell_type": "markdown",
   "metadata": {},
   "source": [
    "## Load the best model artifact"
   ]
  },
  {
   "cell_type": "code",
   "execution_count": 140,
   "metadata": {},
   "outputs": [
    {
     "data": {
      "application/vnd.jupyter.widget-view+json": {
       "model_id": "32164b9aa2ae40b9a11f526bf2e7baf6",
       "version_major": 2,
       "version_minor": 0
      },
      "text/plain": [
       "Downloading artifacts:   0%|          | 0/1 [00:00<?, ?it/s]"
      ]
     },
     "metadata": {},
     "output_type": "display_data"
    },
    {
     "name": "stdout",
     "output_type": "stream",
     "text": [
      "Done\n"
     ]
    }
   ],
   "source": [
    "# download model artifact directory\n",
    "mlflow.artifacts.download_artifacts(\"mlflow-artifacts:/503687084130154334/258f3da1ff74463fa79355c959d4b8f5/artifacts/model/model.xgb\", dst_path=\"best_model\")\n",
    "print(\"Done\")"
   ]
  },
  {
   "cell_type": "code",
   "execution_count": 141,
   "metadata": {},
   "outputs": [],
   "source": [
    "# Load model\n",
    "model = XGBClassifier()\n",
    "model.load_model(\"./best_model/model.xgb\")"
   ]
  },
  {
   "cell_type": "code",
   "execution_count": 154,
   "metadata": {},
   "outputs": [
    {
     "name": "stdout",
     "output_type": "stream",
     "text": [
      "Accuracy: 0.8268625393494229\n"
     ]
    }
   ],
   "source": [
    "predict_y = model.predict(X_test)\n",
    "accuracy = accuracy_score(y_test, predict_y>0.5)\n",
    "print(f\"Accuracy: {accuracy}\")"
   ]
  },
  {
   "cell_type": "code",
   "execution_count": 155,
   "metadata": {},
   "outputs": [
    {
     "data": {
      "text/plain": [
       "array([1])"
      ]
     },
     "execution_count": 155,
     "metadata": {},
     "output_type": "execute_result"
    }
   ],
   "source": [
    "model.predict(np.expand_dims(np.array(X_test.loc[0, :]), 0))"
   ]
  },
  {
   "cell_type": "code",
   "execution_count": null,
   "metadata": {},
   "outputs": [],
   "source": []
  },
  {
   "cell_type": "code",
   "execution_count": null,
   "metadata": {},
   "outputs": [],
   "source": []
  }
 ],
 "metadata": {
  "kernelspec": {
   "display_name": "base",
   "language": "python",
   "name": "python3"
  },
  "language_info": {
   "codemirror_mode": {
    "name": "ipython",
    "version": 3
   },
   "file_extension": ".py",
   "mimetype": "text/x-python",
   "name": "python",
   "nbconvert_exporter": "python",
   "pygments_lexer": "ipython3",
   "version": "3.11.5"
  }
 },
 "nbformat": 4,
 "nbformat_minor": 2
}
