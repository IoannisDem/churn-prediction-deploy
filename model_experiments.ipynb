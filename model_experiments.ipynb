{
 "cells": [
  {
   "cell_type": "code",
   "execution_count": 108,
   "metadata": {},
   "outputs": [],
   "source": [
    "import pandas as pd\n",
    "import numpy as np\n",
    "from collections import Counter\n",
    "\n",
    "import mlflow\n",
    "\n",
    "from sklearn.model_selection import train_test_split\n",
    "from sklearn.metrics import accuracy_score, confusion_matrix, roc_curve, auc\n",
    "from imblearn.over_sampling import SMOTE, ADASYN\n",
    "from imblearn.combine import SMOTETomek\n",
    "\n",
    "from xgboost import XGBClassifier, plot_importance\n",
    "\n",
    "import hyperopt as hp\n",
    "from hyperopt import fmin, tpe, hp, STATUS_OK, Trials"
   ]
  },
  {
   "cell_type": "markdown",
   "metadata": {},
   "source": [
    "## Load data"
   ]
  },
  {
   "cell_type": "code",
   "execution_count": 93,
   "metadata": {},
   "outputs": [],
   "source": [
    "df = pd.read_csv(\"data/customer_churn_telecom_services.csv\")\n",
    "df[\"TotalCharges\"] = df[\"TotalCharges\"].fillna(df[\"tenure\"]*df[\"MonthlyCharges\"])"
   ]
  },
  {
   "cell_type": "markdown",
   "metadata": {},
   "source": [
    "## Churn Prediction"
   ]
  },
  {
   "cell_type": "markdown",
   "metadata": {},
   "source": [
    "* Churn prediction modelling can be an important tool for any company that aims to maximize customer retention, thus increase revenues and profitability.\n",
    "* Predicting churn and successfully lowering it by a relatively small fraction, ensure increase in profits especially when it comes down to acquiring new customers. This can be\n",
    "better modelled by using numbers such as Customer Lifetime Value (CLTV), Customer Acquisition Cost (CAC), Churn rate and Retention rate.\n",
    "\n",
    "In addition, having historic data such as the purchase history (membership or upgrades), engagemnt data with the product/service sentiment metrics (complaints, feedback) etc can provide event better insights compared to using static data. "
   ]
  },
  {
   "cell_type": "markdown",
   "metadata": {},
   "source": [
    "## Use Case"
   ]
  },
  {
   "cell_type": "markdown",
   "metadata": {},
   "source": [
    "* The dataset provides a plethora of data with regards to telecom customers. The data are static and it doesnt include any history data.\n",
    "* The objective is to use the dataset and 'profile' the type of customer who is more likely to churn."
   ]
  },
  {
   "cell_type": "markdown",
   "metadata": {},
   "source": [
    "## Data Split"
   ]
  },
  {
   "cell_type": "code",
   "execution_count": 94,
   "metadata": {},
   "outputs": [],
   "source": [
    "categ_feat = df.select_dtypes(include=\"object\").columns.tolist()\n",
    "categ_feat.remove(\"Churn\")\n",
    "\n",
    "df = pd.get_dummies(df, columns=categ_feat, drop_first=True)\n",
    "df[\"Churn\"] = df[\"Churn\"].map({\"No\": 0, \"Yes\": 1})"
   ]
  },
  {
   "cell_type": "markdown",
   "metadata": {},
   "source": [
    "#### Generate synthetic data"
   ]
  },
  {
   "cell_type": "code",
   "execution_count": 95,
   "metadata": {},
   "outputs": [
    {
     "name": "stdout",
     "output_type": "stream",
     "text": [
      "Resampled dataset shape Counter({0: 4765, 1: 4765})\n"
     ]
    }
   ],
   "source": [
    "X = df.drop('Churn', axis=1)\n",
    "y = df['Churn']\n",
    "\n",
    "# sm = SMOTE(random_state=3)\n",
    "# ada = ADASYN(random_state=3)\n",
    "smtom = SMOTETomek(random_state=3)\n",
    "\n",
    "# X, y = sm.fit_resample(X, y)\n",
    "# X, y = ada.fit_resample(X, y)\n",
    "X, y = smtom.fit_resample(X, y)\n",
    "\n",
    "\n",
    "print('Resampled dataset shape %s' % Counter(y))"
   ]
  },
  {
   "cell_type": "code",
   "execution_count": 96,
   "metadata": {},
   "outputs": [],
   "source": [
    "X_train, X_test, y_train, y_test = train_test_split(X, y, test_size=0.2, random_state=3)"
   ]
  },
  {
   "cell_type": "markdown",
   "metadata": {},
   "source": [
    "## Hyperparameter tuning - MLflow experiments"
   ]
  },
  {
   "cell_type": "code",
   "execution_count": 109,
   "metadata": {},
   "outputs": [
    {
     "name": "stderr",
     "output_type": "stream",
     "text": [
      "2025/02/27 23:32:51 INFO mlflow.tracking.fluent: Experiment with name 'Churn prediction' does not exist. Creating a new experiment.\n"
     ]
    },
    {
     "data": {
      "text/plain": [
       "<Experiment: artifact_location='file:///home/pj00/projects/Github/churn-prediction-deploy/mlruns/361393555524918426', creation_time=1740699171386, experiment_id='361393555524918426', last_update_time=1740699171386, lifecycle_stage='active', name='Churn prediction', tags={}>"
      ]
     },
     "execution_count": 109,
     "metadata": {},
     "output_type": "execute_result"
    }
   ],
   "source": [
    "mlflow.set_experiment(\"Churn prediction\")"
   ]
  },
  {
   "cell_type": "code",
   "execution_count": 104,
   "metadata": {},
   "outputs": [],
   "source": [
    "# hyperparameter space\n",
    "space={\n",
    "    'max_depth': hp.quniform(\"max_depth\", 3, 18, 1),\n",
    "    'gamma': hp.uniform ('gamma', 1,9),\n",
    "    'reg_alpha' : hp.quniform('reg_alpha', 40,180,1),\n",
    "    'reg_lambda' : hp.uniform('reg_lambda', 0,1),\n",
    "    'colsample_bytree' : hp.uniform('colsample_bytree', 0.5,1),\n",
    "    'min_child_weight' : hp.quniform('min_child_weight', 0, 10, 1),\n",
    "    'n_estimators': hp.quniform('n_estimators', 50, 200, 10)\n",
    "    }"
   ]
  },
  {
   "cell_type": "code",
   "execution_count": 105,
   "metadata": {},
   "outputs": [],
   "source": [
    "def hyperparameter_tuning(space):\n",
    "    model = XGBClassifier(n_estimators = int(space['n_estimators']), \n",
    "                          max_depth = int(space['max_depth']), \n",
    "                          gamma = space['gamma'],\n",
    "                          reg_alpha = int(space['reg_alpha']), \n",
    "                          min_child_weight=space['min_child_weight'],\n",
    "                          colsample_bytree=space['colsample_bytree'],\n",
    "                          eval_metric=[\"rmse\"],\n",
    "                          early_stopping_rounds=10,)\n",
    "    \n",
    "    evaluation = [(X_train, y_train), (X_test, y_test)]\n",
    "\n",
    "    model.fit(X_train, \n",
    "              y_train,\n",
    "              eval_set=evaluation,\n",
    "              verbose=False)\n",
    "\n",
    "    pred = model.predict(X_test)\n",
    "    accuracy = accuracy_score(y_test, pred>0.5)\n",
    "\n",
    "    print (\"SCORE:\", accuracy)\n",
    "    return {'loss': -accuracy, 'status': STATUS_OK, 'model': model}"
   ]
  },
  {
   "cell_type": "code",
   "execution_count": 106,
   "metadata": {},
   "outputs": [
    {
     "name": "stdout",
     "output_type": "stream",
     "text": [
      "SCORE:                                                \n",
      "0.7990556138509969                                    \n",
      "SCORE:                                                                           \n",
      "0.816894018887723                                                                \n",
      "SCORE:                                                                           \n",
      "0.8210912906610703                                                              \n",
      "SCORE:                                                                           \n",
      "0.8163693599160545                                                               \n",
      "SCORE:                                                                           \n",
      "0.8095487932843651                                                               \n",
      "SCORE:                                                                           \n",
      "0.8016789087093389                                                               \n",
      "SCORE:                                                                           \n",
      "0.8111227701993704                                                               \n",
      "SCORE:                                                                           \n",
      "0.810598111227702                                                                \n",
      "SCORE:                                                                           \n",
      "0.8022035676810073                                                               \n",
      "SCORE:                                                                           \n",
      "0.8205666316894019                                                               \n",
      "SCORE:                                                                            \n",
      "0.810598111227702                                                                 \n",
      "SCORE:                                                                            \n",
      "0.79800629590766                                                                  \n",
      "SCORE:                                                                            \n",
      "0.8048268625393494                                                                \n",
      "SCORE:                                                                            \n",
      "0.7985309548793285                                                                \n",
      "SCORE:                                                                            \n",
      "0.8032528856243442                                                                \n",
      "SCORE:                                                                            \n",
      "0.8074501573976915                                                                \n",
      "SCORE:                                                                            \n",
      "0.8116474291710388                                                                \n",
      "SCORE:                                                                            \n",
      "0.8079748163693599                                                                \n",
      "SCORE:                                                                            \n",
      "0.8006295907660022                                                                \n",
      "SCORE:                                                                            \n",
      "0.8058761804826863                                                                \n",
      "SCORE:                                                                            \n",
      "0.8221406086044072                                                                \n",
      "SCORE:                                                                            \n",
      "0.8216159496327388                                                                \n",
      "SCORE:                                                                            \n",
      "0.8252885624344176                                                                \n",
      "SCORE:                                                                            \n",
      "0.8216159496327388                                                                \n",
      "SCORE:                                                                            \n",
      "0.8022035676810073                                                                \n",
      "SCORE:                                                                            \n",
      "0.8242392444910808                                                                \n",
      "SCORE:                                                                            \n",
      "0.8137460650577125                                                                \n",
      "SCORE:                                                                            \n",
      "0.7953830010493179                                                                \n",
      "SCORE:                                                                            \n",
      "0.7927597061909759                                                                \n",
      "SCORE:                                                                            \n",
      "0.8090241343126967                                                                \n",
      "100%|██████████| 30/30 [00:04<00:00,  7.50trial/s, best loss: -0.8252885624344176]\n"
     ]
    }
   ],
   "source": [
    "trials = Trials()\n",
    "best = fmin(fn=hyperparameter_tuning,\n",
    "            space=space,\n",
    "            algo=tpe.suggest,\n",
    "            max_evals=30,\n",
    "            trials=trials)"
   ]
  },
  {
   "cell_type": "code",
   "execution_count": 107,
   "metadata": {},
   "outputs": [
    {
     "data": {
      "text/plain": [
       "{'colsample_bytree': 0.7875297076296592,\n",
       " 'gamma': 2.5337780899710385,\n",
       " 'max_depth': 14.0,\n",
       " 'min_child_weight': 0.0,\n",
       " 'n_estimators': 130.0,\n",
       " 'reg_alpha': 53.0,\n",
       " 'reg_lambda': 0.4747038661567912}"
      ]
     },
     "execution_count": 107,
     "metadata": {},
     "output_type": "execute_result"
    }
   ],
   "source": [
    "best"
   ]
  },
  {
   "cell_type": "code",
   "execution_count": null,
   "metadata": {},
   "outputs": [],
   "source": []
  }
 ],
 "metadata": {
  "kernelspec": {
   "display_name": "base",
   "language": "python",
   "name": "python3"
  },
  "language_info": {
   "codemirror_mode": {
    "name": "ipython",
    "version": 3
   },
   "file_extension": ".py",
   "mimetype": "text/x-python",
   "name": "python",
   "nbconvert_exporter": "python",
   "pygments_lexer": "ipython3",
   "version": "3.11.5"
  }
 },
 "nbformat": 4,
 "nbformat_minor": 2
}
