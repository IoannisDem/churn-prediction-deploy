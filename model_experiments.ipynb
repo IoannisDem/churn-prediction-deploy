{
 "cells": [
  {
   "cell_type": "code",
   "execution_count": 156,
   "metadata": {},
   "outputs": [],
   "source": [
    "import pandas as pd\n",
    "import numpy as np\n",
    "from collections import Counter\n",
    "\n",
    "import mlflow\n",
    "from mlflow.models import infer_signature\n",
    "\n",
    "from sklearn.model_selection import train_test_split\n",
    "from sklearn.metrics import accuracy_score, confusion_matrix, roc_curve, auc\n",
    "from imblearn.over_sampling import SMOTE, ADASYN\n",
    "from imblearn.combine import SMOTETomek\n",
    "\n",
    "from xgboost import XGBClassifier, plot_importance\n",
    "\n",
    "import hyperopt as hp\n",
    "from hyperopt import fmin, tpe, hp, STATUS_OK, Trials"
   ]
  },
  {
   "cell_type": "markdown",
   "metadata": {},
   "source": [
    "## Load data"
   ]
  },
  {
   "cell_type": "code",
   "execution_count": 157,
   "metadata": {},
   "outputs": [],
   "source": [
    "df = pd.read_csv(\"data/customer_churn_telecom_services.csv\")\n",
    "df[\"TotalCharges\"] = df[\"TotalCharges\"].fillna(df[\"tenure\"]*df[\"MonthlyCharges\"])"
   ]
  },
  {
   "cell_type": "markdown",
   "metadata": {},
   "source": [
    "## Churn Prediction"
   ]
  },
  {
   "cell_type": "markdown",
   "metadata": {},
   "source": [
    "* Churn prediction modelling can be an important tool for any company that aims to maximize customer retention, thus increase revenues and profitability.\n",
    "* Predicting churn and successfully lowering it by a relatively small fraction, ensure increase in profits especially when it comes down to acquiring new customers. This can be\n",
    "better modelled by using numbers such as Customer Lifetime Value (CLTV), Customer Acquisition Cost (CAC), Churn rate and Retention rate.\n",
    "\n",
    "In addition, having historic data such as the purchase history (membership or upgrades), engagemnt data with the product/service sentiment metrics (complaints, feedback) etc can provide event better insights compared to using static data. "
   ]
  },
  {
   "cell_type": "markdown",
   "metadata": {},
   "source": [
    "## Use Case"
   ]
  },
  {
   "cell_type": "markdown",
   "metadata": {},
   "source": [
    "* The dataset provides a plethora of data with regards to telecom customers. The data are static and it doesnt include any history data.\n",
    "* The objective is to use the dataset and 'profile' the type of customer who is more likely to churn."
   ]
  },
  {
   "cell_type": "markdown",
   "metadata": {},
   "source": [
    "## Data Split"
   ]
  },
  {
   "cell_type": "code",
   "execution_count": 158,
   "metadata": {},
   "outputs": [],
   "source": [
    "categ_feat = df.select_dtypes(include=\"object\").columns.tolist()\n",
    "categ_feat.remove(\"Churn\")\n",
    "\n",
    "df = pd.get_dummies(df, columns=categ_feat, drop_first=True)\n",
    "df[\"Churn\"] = df[\"Churn\"].map({\"No\": 0, \"Yes\": 1})"
   ]
  },
  {
   "cell_type": "markdown",
   "metadata": {},
   "source": [
    "#### Generate synthetic data"
   ]
  },
  {
   "cell_type": "code",
   "execution_count": 159,
   "metadata": {},
   "outputs": [
    {
     "name": "stdout",
     "output_type": "stream",
     "text": [
      "Resampled dataset shape Counter({0: 4753, 1: 4753})\n"
     ]
    }
   ],
   "source": [
    "X = df.drop('Churn', axis=1)\n",
    "y = df['Churn']\n",
    "\n",
    "# sm = SMOTE(random_state=3)\n",
    "# ada = ADASYN(random_state=3)\n",
    "smtom = SMOTETomek(random_state=3)\n",
    "\n",
    "# X, y = sm.fit_resample(X, y)\n",
    "# X, y = ada.fit_resample(X, y)\n",
    "X, y = smtom.fit_resample(X, y)\n",
    "\n",
    "\n",
    "print('Resampled dataset shape %s' % Counter(y))"
   ]
  },
  {
   "cell_type": "code",
   "execution_count": 160,
   "metadata": {},
   "outputs": [],
   "source": [
    "X_train, X_test, y_train, y_test = train_test_split(X, y, test_size=0.2, random_state=3)"
   ]
  },
  {
   "cell_type": "markdown",
   "metadata": {},
   "source": [
    "## Hyperparameter tuning - MLflow experiments"
   ]
  },
  {
   "cell_type": "code",
   "execution_count": 161,
   "metadata": {},
   "outputs": [],
   "source": [
    "# mlflow server --host 127.0.0.1 --port 8080"
   ]
  },
  {
   "cell_type": "code",
   "execution_count": 162,
   "metadata": {},
   "outputs": [
    {
     "name": "stderr",
     "output_type": "stream",
     "text": [
      "2025/03/01 17:05:39 INFO mlflow.tracking.fluent: Experiment with name 'Churn prediction 2' does not exist. Creating a new experiment.\n"
     ]
    },
    {
     "data": {
      "text/plain": [
       "<Experiment: artifact_location='mlflow-artifacts:/235808196041909500', creation_time=1740848739362, experiment_id='235808196041909500', last_update_time=1740848739362, lifecycle_stage='active', name='Churn prediction 2', tags={}>"
      ]
     },
     "execution_count": 162,
     "metadata": {},
     "output_type": "execute_result"
    }
   ],
   "source": [
    "mlflow.set_tracking_uri(\"http://localhost:8080\")\n",
    "mlflow.set_experiment(\"Churn prediction 2\")"
   ]
  },
  {
   "cell_type": "code",
   "execution_count": 163,
   "metadata": {},
   "outputs": [],
   "source": [
    "# hyperparameter space\n",
    "space={\n",
    "    'max_depth': hp.quniform(\"max_depth\", 3, 18, 1),\n",
    "    'gamma': hp.uniform ('gamma', 1,9),\n",
    "    'reg_alpha' : hp.quniform('reg_alpha', 40,180,1),\n",
    "    'reg_lambda' : hp.uniform('reg_lambda', 0,1),\n",
    "    'colsample_bytree' : hp.uniform('colsample_bytree', 0.5,1),\n",
    "    'min_child_weight' : hp.quniform('min_child_weight', 0, 10, 1),\n",
    "    'n_estimators': hp.quniform('n_estimators', 50, 200, 10)\n",
    "    }"
   ]
  },
  {
   "cell_type": "code",
   "execution_count": 164,
   "metadata": {},
   "outputs": [
    {
     "name": "stderr",
     "output_type": "stream",
     "text": [
      "/home/pj00/anaconda3/lib/python3.11/site-packages/mlflow/types/utils.py:452: UserWarning: Hint: Inferred schema contains integer column(s). Integer columns in Python cannot represent missing values. If your input data contains missing values at inference time, it will be encoded as floats and will cause a schema enforcement error. The best way to avoid this problem is to infer the model schema based on a realistic data sample (training dataset) that includes missing values. Alternatively, you can declare integer columns as doubles (float64) whenever these columns may have missing values. See `Handling Integers With Missing Values <https://www.mlflow.org/docs/latest/models.html#handling-integers-with-missing-values>`_ for more details.\n",
      "  warnings.warn(\n"
     ]
    }
   ],
   "source": [
    "signature = infer_signature(X_train, y_train)"
   ]
  },
  {
   "cell_type": "code",
   "execution_count": 165,
   "metadata": {},
   "outputs": [],
   "source": [
    "def hyperparameter_tuning(space):\n",
    "    model = XGBClassifier(n_estimators = int(space['n_estimators']), \n",
    "                          max_depth = int(space['max_depth']), \n",
    "                          gamma = space['gamma'],\n",
    "                          reg_alpha = int(space['reg_alpha']), \n",
    "                          min_child_weight=space['min_child_weight'],\n",
    "                          colsample_bytree=space['colsample_bytree'],\n",
    "                          eval_metric=[\"rmse\"],\n",
    "                          early_stopping_rounds=10,)\n",
    "    \n",
    "    evaluation = [(X_train, y_train), (X_test, y_test)]\n",
    "    \n",
    "    with mlflow.start_run(nested=True):\n",
    "        model.fit(X_train, \n",
    "                y_train,\n",
    "                eval_set=evaluation,\n",
    "                verbose=False)\n",
    "\n",
    "        pred = model.predict(X_test)\n",
    "        accuracy = accuracy_score(y_test, pred>0.5)\n",
    "\n",
    "        # Log parameters and results\n",
    "        mlflow.log_params(space)\n",
    "        mlflow.log_metric(\"accuracy\", accuracy)\n",
    "\n",
    "        # Log model\n",
    "        mlflow.xgboost.log_model(model, \"model\", signature=signature)\n",
    "\n",
    "        print (\"SCORE:\", accuracy)\n",
    "        return {'loss': -accuracy, 'status': STATUS_OK, 'model': model}"
   ]
  },
  {
   "cell_type": "code",
   "execution_count": 166,
   "metadata": {},
   "outputs": [
    {
     "name": "stdout",
     "output_type": "stream",
     "text": [
      "  0%|          | 0/30 [00:00<?, ?trial/s, best loss=?]"
     ]
    },
    {
     "name": "stderr",
     "output_type": "stream",
     "text": [
      "/home/pj00/anaconda3/lib/python3.11/site-packages/xgboost/core.py:158: UserWarning: [17:05:44] WARNING: /workspace/src/c_api/c_api.cc:1374: Saving model in the UBJSON format as default.  You can use file extension: `json`, `ubj` or `deprecated` to choose between formats.\n",
      "  warnings.warn(smsg, UserWarning)\n",
      "\n"
     ]
    },
    {
     "name": "stdout",
     "output_type": "stream",
     "text": [
      "SCORE:                                                \n",
      "0.8175604626708728                                    \n",
      "🏃 View run indecisive-toad-959 at: http://localhost:8080/#/experiments/235808196041909500/runs/1640800987f348f783401d5dfd23ae25\n",
      "\n",
      "🧪 View experiment at: http://localhost:8080/#/experiments/235808196041909500\n",
      "\n",
      "  3%|▎         | 1/30 [00:04<01:56,  4.03s/trial, best loss: -0.8175604626708728]"
     ]
    },
    {
     "name": "stderr",
     "output_type": "stream",
     "text": [
      "/home/pj00/anaconda3/lib/python3.11/site-packages/xgboost/core.py:158: UserWarning: [17:05:48] WARNING: /workspace/src/c_api/c_api.cc:1374: Saving model in the UBJSON format as default.  You can use file extension: `json`, `ubj` or `deprecated` to choose between formats.\n",
      "  warnings.warn(smsg, UserWarning)\n",
      "\n"
     ]
    },
    {
     "name": "stdout",
     "output_type": "stream",
     "text": [
      "SCORE:                                                                           \n",
      "0.8138801261829653                                                               \n",
      "🏃 View run bald-shrimp-547 at: http://localhost:8080/#/experiments/235808196041909500/runs/0014282137b04dc89f3f26e92ac697ee\n",
      "\n",
      "🧪 View experiment at: http://localhost:8080/#/experiments/235808196041909500    \n",
      "\n",
      "  7%|▋         | 2/30 [00:07<01:40,  3.57s/trial, best loss: -0.8175604626708728]"
     ]
    },
    {
     "name": "stderr",
     "output_type": "stream",
     "text": [
      "/home/pj00/anaconda3/lib/python3.11/site-packages/xgboost/core.py:158: UserWarning: [17:05:51] WARNING: /workspace/src/c_api/c_api.cc:1374: Saving model in the UBJSON format as default.  You can use file extension: `json`, `ubj` or `deprecated` to choose between formats.\n",
      "  warnings.warn(smsg, UserWarning)\n",
      "\n"
     ]
    },
    {
     "name": "stdout",
     "output_type": "stream",
     "text": [
      "SCORE:                                                                           \n",
      "0.8144058885383807                                                               \n",
      "🏃 View run treasured-bee-45 at: http://localhost:8080/#/experiments/235808196041909500/runs/7fcd78fcfdc6440f8431a39c6cb3ccd1\n",
      "\n",
      "🧪 View experiment at: http://localhost:8080/#/experiments/235808196041909500    \n",
      "\n",
      " 10%|█         | 3/30 [00:10<01:32,  3.43s/trial, best loss: -0.8175604626708728]"
     ]
    },
    {
     "name": "stderr",
     "output_type": "stream",
     "text": [
      "/home/pj00/anaconda3/lib/python3.11/site-packages/xgboost/core.py:158: UserWarning: [17:05:55] WARNING: /workspace/src/c_api/c_api.cc:1374: Saving model in the UBJSON format as default.  You can use file extension: `json`, `ubj` or `deprecated` to choose between formats.\n",
      "  warnings.warn(smsg, UserWarning)\n",
      "\n"
     ]
    },
    {
     "name": "stdout",
     "output_type": "stream",
     "text": [
      "SCORE:                                                                           \n",
      "0.8165089379600421                                                               \n",
      "🏃 View run stylish-ant-18 at: http://localhost:8080/#/experiments/235808196041909500/runs/fd0cd6119034411f918b60eacd040373\n",
      "\n",
      "🧪 View experiment at: http://localhost:8080/#/experiments/235808196041909500    \n",
      "\n",
      " 13%|█▎        | 4/30 [00:13<01:28,  3.41s/trial, best loss: -0.8175604626708728]"
     ]
    },
    {
     "name": "stderr",
     "output_type": "stream",
     "text": [
      "/home/pj00/anaconda3/lib/python3.11/site-packages/xgboost/core.py:158: UserWarning: [17:05:58] WARNING: /workspace/src/c_api/c_api.cc:1374: Saving model in the UBJSON format as default.  You can use file extension: `json`, `ubj` or `deprecated` to choose between formats.\n",
      "  warnings.warn(smsg, UserWarning)\n",
      "\n"
     ]
    },
    {
     "name": "stdout",
     "output_type": "stream",
     "text": [
      "SCORE:                                                                           \n",
      "0.8065194532071503                                                               \n",
      "🏃 View run mercurial-ray-860 at: http://localhost:8080/#/experiments/235808196041909500/runs/314f494a0b5e43aa873c96d860170ce4\n",
      "\n",
      "🧪 View experiment at: http://localhost:8080/#/experiments/235808196041909500    \n",
      "\n",
      " 17%|█▋        | 5/30 [00:17<01:24,  3.39s/trial, best loss: -0.8175604626708728]"
     ]
    },
    {
     "name": "stderr",
     "output_type": "stream",
     "text": [
      "/home/pj00/anaconda3/lib/python3.11/site-packages/xgboost/core.py:158: UserWarning: [17:06:01] WARNING: /workspace/src/c_api/c_api.cc:1374: Saving model in the UBJSON format as default.  You can use file extension: `json`, `ubj` or `deprecated` to choose between formats.\n",
      "  warnings.warn(smsg, UserWarning)\n",
      "\n"
     ]
    },
    {
     "name": "stdout",
     "output_type": "stream",
     "text": [
      "SCORE:                                                                           \n",
      "0.8212407991587802                                                               \n",
      "🏃 View run treasured-cat-92 at: http://localhost:8080/#/experiments/235808196041909500/runs/c927b93d2a994b9f96924ced8c95f2ab\n",
      "\n",
      "🧪 View experiment at: http://localhost:8080/#/experiments/235808196041909500    \n",
      "\n",
      " 20%|██        | 6/30 [00:20<01:20,  3.34s/trial, best loss: -0.8212407991587802]"
     ]
    },
    {
     "name": "stderr",
     "output_type": "stream",
     "text": [
      "/home/pj00/anaconda3/lib/python3.11/site-packages/xgboost/core.py:158: UserWarning: [17:06:05] WARNING: /workspace/src/c_api/c_api.cc:1374: Saving model in the UBJSON format as default.  You can use file extension: `json`, `ubj` or `deprecated` to choose between formats.\n",
      "  warnings.warn(smsg, UserWarning)\n",
      "\n"
     ]
    },
    {
     "name": "stdout",
     "output_type": "stream",
     "text": [
      "SCORE:                                                                           \n",
      "0.8175604626708728                                                               \n",
      "🏃 View run zealous-snail-192 at: http://localhost:8080/#/experiments/235808196041909500/runs/101c78309848473e8a55d161cbb02cb6\n",
      "\n",
      "🧪 View experiment at: http://localhost:8080/#/experiments/235808196041909500    \n",
      "\n",
      " 23%|██▎       | 7/30 [00:23<01:14,  3.26s/trial, best loss: -0.8212407991587802]"
     ]
    },
    {
     "name": "stderr",
     "output_type": "stream",
     "text": [
      "/home/pj00/anaconda3/lib/python3.11/site-packages/xgboost/core.py:158: UserWarning: [17:06:08] WARNING: /workspace/src/c_api/c_api.cc:1374: Saving model in the UBJSON format as default.  You can use file extension: `json`, `ubj` or `deprecated` to choose between formats.\n",
      "  warnings.warn(smsg, UserWarning)\n",
      "\n"
     ]
    },
    {
     "name": "stdout",
     "output_type": "stream",
     "text": [
      "SCORE:                                                                           \n",
      "0.8175604626708728                                                               \n",
      "🏃 View run trusting-tern-255 at: http://localhost:8080/#/experiments/235808196041909500/runs/10d50e85d5f545b4a8254c8d37e7a1f0\n",
      "\n",
      "🧪 View experiment at: http://localhost:8080/#/experiments/235808196041909500    \n",
      "\n",
      " 27%|██▋       | 8/30 [00:26<01:09,  3.15s/trial, best loss: -0.8212407991587802]"
     ]
    },
    {
     "name": "stderr",
     "output_type": "stream",
     "text": [
      "/home/pj00/anaconda3/lib/python3.11/site-packages/xgboost/core.py:158: UserWarning: [17:06:11] WARNING: /workspace/src/c_api/c_api.cc:1374: Saving model in the UBJSON format as default.  You can use file extension: `json`, `ubj` or `deprecated` to choose between formats.\n",
      "  warnings.warn(smsg, UserWarning)\n",
      "\n"
     ]
    },
    {
     "name": "stdout",
     "output_type": "stream",
     "text": [
      "SCORE:                                                                           \n",
      "0.814931650893796                                                                \n",
      "🏃 View run legendary-tern-278 at: http://localhost:8080/#/experiments/235808196041909500/runs/bef681e43d764c29b9127e80f2df47f3\n",
      "\n",
      "🧪 View experiment at: http://localhost:8080/#/experiments/235808196041909500    \n",
      "\n",
      " 30%|███       | 9/30 [00:29<01:04,  3.08s/trial, best loss: -0.8212407991587802]"
     ]
    },
    {
     "name": "stderr",
     "output_type": "stream",
     "text": [
      "/home/pj00/anaconda3/lib/python3.11/site-packages/xgboost/core.py:158: UserWarning: [17:06:14] WARNING: /workspace/src/c_api/c_api.cc:1374: Saving model in the UBJSON format as default.  You can use file extension: `json`, `ubj` or `deprecated` to choose between formats.\n",
      "  warnings.warn(smsg, UserWarning)\n",
      "\n"
     ]
    },
    {
     "name": "stdout",
     "output_type": "stream",
     "text": [
      "SCORE:                                                                           \n",
      "0.8117770767613038                                                               \n",
      "🏃 View run bustling-asp-587 at: http://localhost:8080/#/experiments/235808196041909500/runs/74dc055dd6444899a0b1e908bfec8895\n",
      "\n",
      "🧪 View experiment at: http://localhost:8080/#/experiments/235808196041909500    \n",
      "\n",
      " 33%|███▎      | 10/30 [00:32<01:00,  3.01s/trial, best loss: -0.8212407991587802]"
     ]
    },
    {
     "name": "stderr",
     "output_type": "stream",
     "text": [
      "/home/pj00/anaconda3/lib/python3.11/site-packages/xgboost/core.py:158: UserWarning: [17:06:16] WARNING: /workspace/src/c_api/c_api.cc:1374: Saving model in the UBJSON format as default.  You can use file extension: `json`, `ubj` or `deprecated` to choose between formats.\n",
      "  warnings.warn(smsg, UserWarning)\n",
      "\n"
     ]
    },
    {
     "name": "stdout",
     "output_type": "stream",
     "text": [
      "SCORE:                                                                            \n",
      "0.8243953732912723                                                                \n",
      "🏃 View run gaudy-fawn-240 at: http://localhost:8080/#/experiments/235808196041909500/runs/431f01f88ff24ba8ac0ea4f2e94c0239\n",
      "\n",
      "🧪 View experiment at: http://localhost:8080/#/experiments/235808196041909500     \n",
      "\n",
      " 37%|███▋      | 11/30 [00:35<00:57,  3.02s/trial, best loss: -0.8243953732912723]"
     ]
    },
    {
     "name": "stderr",
     "output_type": "stream",
     "text": [
      "/home/pj00/anaconda3/lib/python3.11/site-packages/xgboost/core.py:158: UserWarning: [17:06:19] WARNING: /workspace/src/c_api/c_api.cc:1374: Saving model in the UBJSON format as default.  You can use file extension: `json`, `ubj` or `deprecated` to choose between formats.\n",
      "  warnings.warn(smsg, UserWarning)\n",
      "\n"
     ]
    },
    {
     "name": "stdout",
     "output_type": "stream",
     "text": [
      "SCORE:                                                                            \n",
      "0.8080967402733964                                                                \n",
      "🏃 View run worried-rook-489 at: http://localhost:8080/#/experiments/235808196041909500/runs/d6941a9b53b64688b89de76b09700018\n",
      "\n",
      "🧪 View experiment at: http://localhost:8080/#/experiments/235808196041909500     \n",
      "\n",
      " 40%|████      | 12/30 [00:38<00:53,  2.98s/trial, best loss: -0.8243953732912723]"
     ]
    },
    {
     "name": "stderr",
     "output_type": "stream",
     "text": [
      "/home/pj00/anaconda3/lib/python3.11/site-packages/xgboost/core.py:158: UserWarning: [17:06:22] WARNING: /workspace/src/c_api/c_api.cc:1374: Saving model in the UBJSON format as default.  You can use file extension: `json`, `ubj` or `deprecated` to choose between formats.\n",
      "  warnings.warn(smsg, UserWarning)\n",
      "\n"
     ]
    },
    {
     "name": "stdout",
     "output_type": "stream",
     "text": [
      "SCORE:                                                                            \n",
      "0.8107255520504731                                                                \n",
      "🏃 View run melodic-flea-345 at: http://localhost:8080/#/experiments/235808196041909500/runs/2c8d8fb50d0048ec982a50a16dcd16f9\n",
      "\n",
      "🧪 View experiment at: http://localhost:8080/#/experiments/235808196041909500     \n",
      "\n",
      " 43%|████▎     | 13/30 [00:41<00:49,  2.94s/trial, best loss: -0.8243953732912723]"
     ]
    },
    {
     "name": "stderr",
     "output_type": "stream",
     "text": [
      "/home/pj00/anaconda3/lib/python3.11/site-packages/xgboost/core.py:158: UserWarning: [17:06:25] WARNING: /workspace/src/c_api/c_api.cc:1374: Saving model in the UBJSON format as default.  You can use file extension: `json`, `ubj` or `deprecated` to choose between formats.\n",
      "  warnings.warn(smsg, UserWarning)\n",
      "\n"
     ]
    },
    {
     "name": "stdout",
     "output_type": "stream",
     "text": [
      "SCORE:                                                                            \n",
      "0.8159831756046267                                                                \n",
      "🏃 View run carefree-lamb-64 at: http://localhost:8080/#/experiments/235808196041909500/runs/f9eb5cfe83d445d382093ee7bd96ac0c\n",
      "\n",
      "🧪 View experiment at: http://localhost:8080/#/experiments/235808196041909500     \n",
      "\n",
      " 47%|████▋     | 14/30 [00:43<00:46,  2.92s/trial, best loss: -0.8243953732912723]"
     ]
    },
    {
     "name": "stderr",
     "output_type": "stream",
     "text": [
      "/home/pj00/anaconda3/lib/python3.11/site-packages/xgboost/core.py:158: UserWarning: [17:06:28] WARNING: /workspace/src/c_api/c_api.cc:1374: Saving model in the UBJSON format as default.  You can use file extension: `json`, `ubj` or `deprecated` to choose between formats.\n",
      "  warnings.warn(smsg, UserWarning)\n",
      "\n"
     ]
    },
    {
     "name": "stdout",
     "output_type": "stream",
     "text": [
      "SCORE:                                                                            \n",
      "0.8086225026288117                                                                \n",
      "🏃 View run brawny-hawk-138 at: http://localhost:8080/#/experiments/235808196041909500/runs/b38b78870b9f40d2bf22efdf850c1251\n",
      "\n",
      "🧪 View experiment at: http://localhost:8080/#/experiments/235808196041909500     \n",
      "\n",
      " 50%|█████     | 15/30 [00:46<00:43,  2.92s/trial, best loss: -0.8243953732912723]"
     ]
    },
    {
     "name": "stderr",
     "output_type": "stream",
     "text": [
      "/home/pj00/anaconda3/lib/python3.11/site-packages/xgboost/core.py:158: UserWarning: [17:06:31] WARNING: /workspace/src/c_api/c_api.cc:1374: Saving model in the UBJSON format as default.  You can use file extension: `json`, `ubj` or `deprecated` to choose between formats.\n",
      "  warnings.warn(smsg, UserWarning)\n",
      "\n"
     ]
    },
    {
     "name": "stdout",
     "output_type": "stream",
     "text": [
      "SCORE:                                                                            \n",
      "0.8144058885383807                                                                \n",
      "🏃 View run resilient-shoat-444 at: http://localhost:8080/#/experiments/235808196041909500/runs/2fb0e5d7833849e2805061b95135bfc2\n",
      "\n",
      "🧪 View experiment at: http://localhost:8080/#/experiments/235808196041909500     \n",
      "\n",
      " 53%|█████▎    | 16/30 [00:49<00:41,  2.94s/trial, best loss: -0.8243953732912723]"
     ]
    },
    {
     "name": "stderr",
     "output_type": "stream",
     "text": [
      "/home/pj00/anaconda3/lib/python3.11/site-packages/xgboost/core.py:158: UserWarning: [17:06:34] WARNING: /workspace/src/c_api/c_api.cc:1374: Saving model in the UBJSON format as default.  You can use file extension: `json`, `ubj` or `deprecated` to choose between formats.\n",
      "  warnings.warn(smsg, UserWarning)\n",
      "\n"
     ]
    },
    {
     "name": "stdout",
     "output_type": "stream",
     "text": [
      "SCORE:                                                                            \n",
      "0.8117770767613038                                                                \n",
      "🏃 View run rogue-sheep-571 at: http://localhost:8080/#/experiments/235808196041909500/runs/20b05575be1c471dab1e035090dbc4d3\n",
      "\n",
      "🧪 View experiment at: http://localhost:8080/#/experiments/235808196041909500     \n",
      "\n",
      " 57%|█████▋    | 17/30 [00:53<00:39,  3.00s/trial, best loss: -0.8243953732912723]"
     ]
    },
    {
     "name": "stderr",
     "output_type": "stream",
     "text": [
      "/home/pj00/anaconda3/lib/python3.11/site-packages/xgboost/core.py:158: UserWarning: [17:06:37] WARNING: /workspace/src/c_api/c_api.cc:1374: Saving model in the UBJSON format as default.  You can use file extension: `json`, `ubj` or `deprecated` to choose between formats.\n",
      "  warnings.warn(smsg, UserWarning)\n",
      "\n"
     ]
    },
    {
     "name": "stdout",
     "output_type": "stream",
     "text": [
      "SCORE:                                                                            \n",
      "0.8259726603575184                                                                \n",
      "🏃 View run intrigued-gnu-506 at: http://localhost:8080/#/experiments/235808196041909500/runs/2fb48d02ca2349d094b0f4f86cd53a36\n",
      "\n",
      "🧪 View experiment at: http://localhost:8080/#/experiments/235808196041909500     \n",
      "\n",
      " 60%|██████    | 18/30 [00:56<00:36,  3.01s/trial, best loss: -0.8259726603575184]"
     ]
    },
    {
     "name": "stderr",
     "output_type": "stream",
     "text": [
      "/home/pj00/anaconda3/lib/python3.11/site-packages/xgboost/core.py:158: UserWarning: [17:06:40] WARNING: /workspace/src/c_api/c_api.cc:1374: Saving model in the UBJSON format as default.  You can use file extension: `json`, `ubj` or `deprecated` to choose between formats.\n",
      "  warnings.warn(smsg, UserWarning)\n",
      "\n"
     ]
    },
    {
     "name": "stdout",
     "output_type": "stream",
     "text": [
      "SCORE:                                                                            \n",
      "0.8217665615141956                                                                \n",
      "🏃 View run sassy-doe-406 at: http://localhost:8080/#/experiments/235808196041909500/runs/1fc4d10454a14497b5857f0101f9911c\n",
      "\n",
      "🧪 View experiment at: http://localhost:8080/#/experiments/235808196041909500     \n",
      "\n",
      " 63%|██████▎   | 19/30 [00:59<00:33,  3.05s/trial, best loss: -0.8259726603575184]"
     ]
    },
    {
     "name": "stderr",
     "output_type": "stream",
     "text": [
      "/home/pj00/anaconda3/lib/python3.11/site-packages/xgboost/core.py:158: UserWarning: [17:06:44] WARNING: /workspace/src/c_api/c_api.cc:1374: Saving model in the UBJSON format as default.  You can use file extension: `json`, `ubj` or `deprecated` to choose between formats.\n",
      "  warnings.warn(smsg, UserWarning)\n",
      "\n"
     ]
    },
    {
     "name": "stdout",
     "output_type": "stream",
     "text": [
      "SCORE:                                                                            \n",
      "0.8291272344900105                                                                \n",
      "🏃 View run nosy-loon-595 at: http://localhost:8080/#/experiments/235808196041909500/runs/876757a8bf29454997281d12e7377475\n",
      "\n",
      "🧪 View experiment at: http://localhost:8080/#/experiments/235808196041909500     \n",
      "\n",
      " 67%|██████▋   | 20/30 [01:02<00:31,  3.17s/trial, best loss: -0.8291272344900105]"
     ]
    },
    {
     "name": "stderr",
     "output_type": "stream",
     "text": [
      "/home/pj00/anaconda3/lib/python3.11/site-packages/xgboost/core.py:158: UserWarning: [17:06:47] WARNING: /workspace/src/c_api/c_api.cc:1374: Saving model in the UBJSON format as default.  You can use file extension: `json`, `ubj` or `deprecated` to choose between formats.\n",
      "  warnings.warn(smsg, UserWarning)\n",
      "\n"
     ]
    },
    {
     "name": "stdout",
     "output_type": "stream",
     "text": [
      "SCORE:                                                                            \n",
      "0.8333333333333334                                                                \n",
      "🏃 View run bedecked-penguin-109 at: http://localhost:8080/#/experiments/235808196041909500/runs/2fecb4f117d54a5e9a5b33429d7aa3bb\n",
      "\n",
      "🧪 View experiment at: http://localhost:8080/#/experiments/235808196041909500     \n",
      "\n",
      " 70%|███████   | 21/30 [01:05<00:28,  3.21s/trial, best loss: -0.8333333333333334]"
     ]
    },
    {
     "name": "stderr",
     "output_type": "stream",
     "text": [
      "/home/pj00/anaconda3/lib/python3.11/site-packages/xgboost/core.py:158: UserWarning: [17:06:50] WARNING: /workspace/src/c_api/c_api.cc:1374: Saving model in the UBJSON format as default.  You can use file extension: `json`, `ubj` or `deprecated` to choose between formats.\n",
      "  warnings.warn(smsg, UserWarning)\n",
      "\n"
     ]
    },
    {
     "name": "stdout",
     "output_type": "stream",
     "text": [
      "SCORE:                                                                            \n",
      "0.8296529968454258                                                                \n",
      "🏃 View run thoughtful-elk-545 at: http://localhost:8080/#/experiments/235808196041909500/runs/d03d1d55759f4099b96444f501d3730a\n",
      "\n",
      "🧪 View experiment at: http://localhost:8080/#/experiments/235808196041909500     \n",
      "\n",
      " 73%|███████▎  | 22/30 [01:09<00:26,  3.27s/trial, best loss: -0.8333333333333334]"
     ]
    },
    {
     "name": "stderr",
     "output_type": "stream",
     "text": [
      "/home/pj00/anaconda3/lib/python3.11/site-packages/xgboost/core.py:158: UserWarning: [17:06:54] WARNING: /workspace/src/c_api/c_api.cc:1374: Saving model in the UBJSON format as default.  You can use file extension: `json`, `ubj` or `deprecated` to choose between formats.\n",
      "  warnings.warn(smsg, UserWarning)\n",
      "\n"
     ]
    },
    {
     "name": "stdout",
     "output_type": "stream",
     "text": [
      "SCORE:                                                                            \n",
      "0.8228180862250263                                                                \n",
      "🏃 View run bemused-dove-136 at: http://localhost:8080/#/experiments/235808196041909500/runs/3ab6976d85de40d4b8f2ce4385102364\n",
      "\n",
      "🧪 View experiment at: http://localhost:8080/#/experiments/235808196041909500     \n",
      "\n",
      " 77%|███████▋  | 23/30 [01:12<00:23,  3.32s/trial, best loss: -0.8333333333333334]"
     ]
    },
    {
     "name": "stderr",
     "output_type": "stream",
     "text": [
      "/home/pj00/anaconda3/lib/python3.11/site-packages/xgboost/core.py:158: UserWarning: [17:06:57] WARNING: /workspace/src/c_api/c_api.cc:1374: Saving model in the UBJSON format as default.  You can use file extension: `json`, `ubj` or `deprecated` to choose between formats.\n",
      "  warnings.warn(smsg, UserWarning)\n",
      "\n"
     ]
    },
    {
     "name": "stdout",
     "output_type": "stream",
     "text": [
      "SCORE:                                                                            \n",
      "0.8270241850683491                                                                \n",
      "🏃 View run fun-sponge-726 at: http://localhost:8080/#/experiments/235808196041909500/runs/8a30eee82f454531b472482c76b6fa6c\n",
      "\n",
      "🧪 View experiment at: http://localhost:8080/#/experiments/235808196041909500     \n",
      "\n",
      " 80%|████████  | 24/30 [01:16<00:21,  3.51s/trial, best loss: -0.8333333333333334]"
     ]
    },
    {
     "name": "stderr",
     "output_type": "stream",
     "text": [
      "/home/pj00/anaconda3/lib/python3.11/site-packages/xgboost/core.py:158: UserWarning: [17:07:01] WARNING: /workspace/src/c_api/c_api.cc:1374: Saving model in the UBJSON format as default.  You can use file extension: `json`, `ubj` or `deprecated` to choose between formats.\n",
      "  warnings.warn(smsg, UserWarning)\n",
      "\n"
     ]
    },
    {
     "name": "stdout",
     "output_type": "stream",
     "text": [
      "SCORE:                                                                            \n",
      "0.823869610935857                                                                 \n",
      "🏃 View run unique-horse-559 at: http://localhost:8080/#/experiments/235808196041909500/runs/7c6b7f19682e4b798bd3af1463b30328\n",
      "\n",
      "🧪 View experiment at: http://localhost:8080/#/experiments/235808196041909500     \n",
      "\n",
      " 83%|████████▎ | 25/30 [01:20<00:17,  3.55s/trial, best loss: -0.8333333333333334]"
     ]
    },
    {
     "name": "stderr",
     "output_type": "stream",
     "text": [
      "/home/pj00/anaconda3/lib/python3.11/site-packages/xgboost/core.py:158: UserWarning: [17:07:05] WARNING: /workspace/src/c_api/c_api.cc:1374: Saving model in the UBJSON format as default.  You can use file extension: `json`, `ubj` or `deprecated` to choose between formats.\n",
      "  warnings.warn(smsg, UserWarning)\n",
      "\n"
     ]
    },
    {
     "name": "stdout",
     "output_type": "stream",
     "text": [
      "SCORE:                                                                            \n",
      "0.8275499474237644                                                                \n",
      "🏃 View run aged-wren-790 at: http://localhost:8080/#/experiments/235808196041909500/runs/323a9ad38fae474dac5015b468d84fc8\n",
      "\n",
      "🧪 View experiment at: http://localhost:8080/#/experiments/235808196041909500     \n",
      "\n",
      " 87%|████████▋ | 26/30 [01:23<00:13,  3.49s/trial, best loss: -0.8333333333333334]"
     ]
    },
    {
     "name": "stderr",
     "output_type": "stream",
     "text": [
      "/home/pj00/anaconda3/lib/python3.11/site-packages/xgboost/core.py:158: UserWarning: [17:07:08] WARNING: /workspace/src/c_api/c_api.cc:1374: Saving model in the UBJSON format as default.  You can use file extension: `json`, `ubj` or `deprecated` to choose between formats.\n",
      "  warnings.warn(smsg, UserWarning)\n",
      "\n"
     ]
    },
    {
     "name": "stdout",
     "output_type": "stream",
     "text": [
      "SCORE:                                                                            \n",
      "0.8201892744479495                                                                \n",
      "🏃 View run intrigued-snipe-748 at: http://localhost:8080/#/experiments/235808196041909500/runs/4b0254618d0e46b386803c7211ac9345\n",
      "\n",
      "🧪 View experiment at: http://localhost:8080/#/experiments/235808196041909500     \n",
      "\n",
      " 90%|█████████ | 27/30 [01:26<00:10,  3.39s/trial, best loss: -0.8333333333333334]"
     ]
    },
    {
     "name": "stderr",
     "output_type": "stream",
     "text": [
      "/home/pj00/anaconda3/lib/python3.11/site-packages/xgboost/core.py:158: UserWarning: [17:07:11] WARNING: /workspace/src/c_api/c_api.cc:1374: Saving model in the UBJSON format as default.  You can use file extension: `json`, `ubj` or `deprecated` to choose between formats.\n",
      "  warnings.warn(smsg, UserWarning)\n",
      "\n"
     ]
    },
    {
     "name": "stdout",
     "output_type": "stream",
     "text": [
      "SCORE:                                                                            \n",
      "0.8217665615141956                                                                \n",
      "🏃 View run auspicious-smelt-759 at: http://localhost:8080/#/experiments/235808196041909500/runs/34cbe000ae1b44f6a0e2416d72f7c2bf\n",
      "\n",
      "🧪 View experiment at: http://localhost:8080/#/experiments/235808196041909500     \n",
      "\n",
      " 93%|█████████▎| 28/30 [01:30<00:06,  3.35s/trial, best loss: -0.8333333333333334]"
     ]
    },
    {
     "name": "stderr",
     "output_type": "stream",
     "text": [
      "/home/pj00/anaconda3/lib/python3.11/site-packages/xgboost/core.py:158: UserWarning: [17:07:14] WARNING: /workspace/src/c_api/c_api.cc:1374: Saving model in the UBJSON format as default.  You can use file extension: `json`, `ubj` or `deprecated` to choose between formats.\n",
      "  warnings.warn(smsg, UserWarning)\n",
      "\n"
     ]
    },
    {
     "name": "stdout",
     "output_type": "stream",
     "text": [
      "SCORE:                                                                            \n",
      "0.8228180862250263                                                                \n",
      "🏃 View run enthused-flea-531 at: http://localhost:8080/#/experiments/235808196041909500/runs/c51e2fe3095749cf821379a200b0de42\n",
      "\n",
      "🧪 View experiment at: http://localhost:8080/#/experiments/235808196041909500     \n",
      "\n",
      " 97%|█████████▋| 29/30 [01:33<00:03,  3.31s/trial, best loss: -0.8333333333333334]"
     ]
    },
    {
     "name": "stderr",
     "output_type": "stream",
     "text": [
      "/home/pj00/anaconda3/lib/python3.11/site-packages/xgboost/core.py:158: UserWarning: [17:07:18] WARNING: /workspace/src/c_api/c_api.cc:1374: Saving model in the UBJSON format as default.  You can use file extension: `json`, `ubj` or `deprecated` to choose between formats.\n",
      "  warnings.warn(smsg, UserWarning)\n",
      "\n"
     ]
    },
    {
     "name": "stdout",
     "output_type": "stream",
     "text": [
      "SCORE:                                                                            \n",
      "0.823869610935857                                                                 \n",
      "🏃 View run flawless-asp-594 at: http://localhost:8080/#/experiments/235808196041909500/runs/24d1b51da1614bc597e6accf067ed655\n",
      "\n",
      "🧪 View experiment at: http://localhost:8080/#/experiments/235808196041909500     \n",
      "\n",
      "100%|██████████| 30/30 [01:36<00:00,  3.21s/trial, best loss: -0.8333333333333334]\n"
     ]
    },
    {
     "name": "stderr",
     "output_type": "stream",
     "text": [
      "/home/pj00/anaconda3/lib/python3.11/site-packages/xgboost/core.py:158: UserWarning: [17:07:20] WARNING: /workspace/src/c_api/c_api.cc:1374: Saving model in the UBJSON format as default.  You can use file extension: `json`, `ubj` or `deprecated` to choose between formats.\n",
      "  warnings.warn(smsg, UserWarning)\n"
     ]
    },
    {
     "name": "stdout",
     "output_type": "stream",
     "text": [
      "Best parameters: {'colsample_bytree': 0.9959164208865653, 'gamma': 1.359593592969206, 'max_depth': 12.0, 'min_child_weight': 4.0, 'n_estimators': 150.0, 'reg_alpha': 66.0, 'reg_lambda': 0.41252077656727526}\n",
      "Best eval rmse: -0.8333333333333334\n",
      "🏃 View run luminous-wasp-592 at: http://localhost:8080/#/experiments/235808196041909500/runs/256c5f7592f4420396fc829c4d105093\n",
      "🧪 View experiment at: http://localhost:8080/#/experiments/235808196041909500\n"
     ]
    }
   ],
   "source": [
    "with mlflow.start_run():\n",
    "    trials = Trials()\n",
    "    best = fmin(fn=hyperparameter_tuning,\n",
    "                space=space,\n",
    "                algo=tpe.suggest,\n",
    "                max_evals=30,\n",
    "                trials=trials)\n",
    "    best_run = sorted(trials.results, key=lambda x: x[\"loss\"])[0]\n",
    "\n",
    "    # Log the best parameters, loss, and model\n",
    "    mlflow.log_params(best)\n",
    "    mlflow.log_metric(\"accuracy\", -best_run[\"loss\"])\n",
    "\n",
    "    # log bets model\n",
    "    mlflow.xgboost.log_model(best_run[\"model\"], \"model\", signature=signature)\n",
    "\n",
    "    # Print out the best parameters and corresponding loss\n",
    "    print(f\"Best parameters: {best}\")\n",
    "    print(f\"Best eval rmse: {best_run['loss']}\")"
   ]
  },
  {
   "cell_type": "markdown",
   "metadata": {},
   "source": [
    "## Load the best model artifact"
   ]
  },
  {
   "cell_type": "code",
   "execution_count": 140,
   "metadata": {},
   "outputs": [
    {
     "data": {
      "application/vnd.jupyter.widget-view+json": {
       "model_id": "32164b9aa2ae40b9a11f526bf2e7baf6",
       "version_major": 2,
       "version_minor": 0
      },
      "text/plain": [
       "Downloading artifacts:   0%|          | 0/1 [00:00<?, ?it/s]"
      ]
     },
     "metadata": {},
     "output_type": "display_data"
    },
    {
     "name": "stdout",
     "output_type": "stream",
     "text": [
      "Done\n"
     ]
    }
   ],
   "source": [
    "# download model artifact directory\n",
    "mlflow.artifacts.download_artifacts(\"mlflow-artifacts:/503687084130154334/258f3da1ff74463fa79355c959d4b8f5/artifacts/model/model.xgb\", dst_path=\"best_model\")\n",
    "print(\"Done\")"
   ]
  },
  {
   "cell_type": "code",
   "execution_count": 141,
   "metadata": {},
   "outputs": [],
   "source": [
    "# Load model\n",
    "model = XGBClassifier()\n",
    "model.load_model(\"./best_model/model.xgb\")"
   ]
  },
  {
   "cell_type": "code",
   "execution_count": 154,
   "metadata": {},
   "outputs": [
    {
     "name": "stdout",
     "output_type": "stream",
     "text": [
      "Accuracy: 0.8268625393494229\n"
     ]
    }
   ],
   "source": [
    "predict_y = model.predict(X_test)\n",
    "accuracy = accuracy_score(y_test, predict_y>0.5)\n",
    "print(f\"Accuracy: {accuracy}\")"
   ]
  },
  {
   "cell_type": "code",
   "execution_count": 155,
   "metadata": {},
   "outputs": [
    {
     "data": {
      "text/plain": [
       "array([1])"
      ]
     },
     "execution_count": 155,
     "metadata": {},
     "output_type": "execute_result"
    }
   ],
   "source": [
    "model.predict(np.expand_dims(np.array(X_test.loc[0, :]), 0))"
   ]
  },
  {
   "cell_type": "code",
   "execution_count": null,
   "metadata": {},
   "outputs": [],
   "source": []
  },
  {
   "cell_type": "code",
   "execution_count": null,
   "metadata": {},
   "outputs": [],
   "source": []
  }
 ],
 "metadata": {
  "kernelspec": {
   "display_name": "base",
   "language": "python",
   "name": "python3"
  },
  "language_info": {
   "codemirror_mode": {
    "name": "ipython",
    "version": 3
   },
   "file_extension": ".py",
   "mimetype": "text/x-python",
   "name": "python",
   "nbconvert_exporter": "python",
   "pygments_lexer": "ipython3",
   "version": "3.11.5"
  }
 },
 "nbformat": 4,
 "nbformat_minor": 2
}
