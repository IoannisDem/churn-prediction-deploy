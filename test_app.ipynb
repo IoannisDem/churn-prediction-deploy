{
 "cells": [
  {
   "cell_type": "code",
   "execution_count": 23,
   "metadata": {},
   "outputs": [],
   "source": [
    "import requests\n",
    "import pandas as pd\n",
    "import numpy as np\n",
    "import cv2\n",
    "import base64\n",
    "from io import BytesIO"
   ]
  },
  {
   "cell_type": "code",
   "execution_count": 14,
   "metadata": {},
   "outputs": [
    {
     "data": {
      "text/plain": [
       "'{\"Hello\":\"World\"}'"
      ]
     },
     "execution_count": 14,
     "metadata": {},
     "output_type": "execute_result"
    }
   ],
   "source": [
    "requests.get(\"http://localhost:8000\").text"
   ]
  },
  {
   "cell_type": "code",
   "execution_count": 17,
   "metadata": {},
   "outputs": [],
   "source": [
    "df = pd.read_csv(\"data/customer_churn_telecom_services.csv\")\n",
    "df[\"TotalCharges\"] = df[\"TotalCharges\"].fillna(df[\"tenure\"]*df[\"MonthlyCharges\"])\n",
    "\n",
    "categ_feat = df.select_dtypes(include=\"object\").columns.tolist()\n",
    "categ_feat.remove(\"Churn\")\n",
    "\n",
    "df = pd.get_dummies(df, columns=categ_feat, drop_first=True)\n",
    "df[\"Churn\"] = df[\"Churn\"].map({\"No\": 0, \"Yes\": 1})\n",
    "\n",
    "X_train = df.drop(\"Churn\", axis=1)\n",
    "y_train = df[\"Churn\"]"
   ]
  },
  {
   "cell_type": "code",
   "execution_count": 18,
   "metadata": {},
   "outputs": [
    {
     "data": {
      "text/plain": [
       "array([0, 1, 29.85, 29.85, False, True, False, False, True, False, False,\n",
       "       False, False, False, False, True, False, False, False, False,\n",
       "       False, False, False, False, False, False, True, False, True, False],\n",
       "      dtype=object)"
      ]
     },
     "execution_count": 18,
     "metadata": {},
     "output_type": "execute_result"
    }
   ],
   "source": [
    "np.array(X_train.loc[0, :])"
   ]
  },
  {
   "cell_type": "code",
   "execution_count": 46,
   "metadata": {},
   "outputs": [],
   "source": [
    "# Your data as a list\n",
    "data = {\n",
    "    \"features\": [0, 1, 29.85, 29.85, False, True, False, False, True, False, False, False, False, False, False, True, False, False, False, False, False, False, False, False, False, False, True, False, True, False]\n",
    "}\n",
    "\n",
    "# Send the POST request with the JSON body\n",
    "response = requests.post(\"http://127.0.0.1:8000/predict/\", json=data)"
   ]
  },
  {
   "cell_type": "code",
   "execution_count": 47,
   "metadata": {},
   "outputs": [
    {
     "data": {
      "text/plain": [
       "[1]"
      ]
     },
     "execution_count": 47,
     "metadata": {},
     "output_type": "execute_result"
    }
   ],
   "source": [
    "response.json()[\"result\"]"
   ]
  },
  {
   "cell_type": "code",
   "execution_count": null,
   "metadata": {},
   "outputs": [],
   "source": []
  }
 ],
 "metadata": {
  "kernelspec": {
   "display_name": "base",
   "language": "python",
   "name": "python3"
  },
  "language_info": {
   "codemirror_mode": {
    "name": "ipython",
    "version": 3
   },
   "file_extension": ".py",
   "mimetype": "text/x-python",
   "name": "python",
   "nbconvert_exporter": "python",
   "pygments_lexer": "ipython3",
   "version": "3.11.5"
  }
 },
 "nbformat": 4,
 "nbformat_minor": 2
}
